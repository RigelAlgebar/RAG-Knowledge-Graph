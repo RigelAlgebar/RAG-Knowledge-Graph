{
  "nbformat": 4,
  "nbformat_minor": 0,
  "metadata": {
    "colab": {
      "provenance": [],
      "gpuType": "T4"
    },
    "kernelspec": {
      "name": "python3",
      "display_name": "Python 3"
    },
    "language_info": {
      "name": "python"
    },
    "accelerator": "GPU"
  },
  "cells": [
    {
      "cell_type": "code",
      "execution_count": 1,
      "metadata": {
        "colab": {
          "base_uri": "https://localhost:8080/"
        },
        "id": "4dVJQsKo_uSq",
        "outputId": "01eb7f3f-1654-4a84-bd58-6757032b0d6c"
      },
      "outputs": [
        {
          "output_type": "stream",
          "name": "stdout",
          "text": [
            "Requirement already satisfied: ragatouille in /usr/local/lib/python3.10/dist-packages (0.0.8.post4)\n",
            "Requirement already satisfied: colbert-ai==0.2.19 in /usr/local/lib/python3.10/dist-packages (from ragatouille) (0.2.19)\n",
            "Requirement already satisfied: faiss-cpu<2.0.0,>=1.7.4 in /usr/local/lib/python3.10/dist-packages (from ragatouille) (1.8.0.post1)\n",
            "Requirement already satisfied: fast-pytorch-kmeans==0.2.0.1 in /usr/local/lib/python3.10/dist-packages (from ragatouille) (0.2.0.1)\n",
            "Requirement already satisfied: langchain>=0.1.0 in /usr/local/lib/python3.10/dist-packages (from ragatouille) (0.3.0)\n",
            "Requirement already satisfied: langchain_core>=0.1.4 in /usr/local/lib/python3.10/dist-packages (from ragatouille) (0.3.0)\n",
            "Requirement already satisfied: llama-index>=0.7 in /usr/local/lib/python3.10/dist-packages (from ragatouille) (0.11.9)\n",
            "Requirement already satisfied: onnx<2.0.0,>=1.15.0 in /usr/local/lib/python3.10/dist-packages (from ragatouille) (1.16.2)\n",
            "Requirement already satisfied: sentence-transformers<3.0.0,>=2.2.2 in /usr/local/lib/python3.10/dist-packages (from ragatouille) (2.7.0)\n",
            "Requirement already satisfied: srsly==2.4.8 in /usr/local/lib/python3.10/dist-packages (from ragatouille) (2.4.8)\n",
            "Requirement already satisfied: torch>=1.13 in /usr/local/lib/python3.10/dist-packages (from ragatouille) (2.4.0+cu121)\n",
            "Requirement already satisfied: transformers<5.0.0,>=4.36.2 in /usr/local/lib/python3.10/dist-packages (from ragatouille) (4.44.2)\n",
            "Requirement already satisfied: voyager<3.0.0,>=2.0.2 in /usr/local/lib/python3.10/dist-packages (from ragatouille) (2.0.9)\n",
            "Requirement already satisfied: bitarray in /usr/local/lib/python3.10/dist-packages (from colbert-ai==0.2.19->ragatouille) (2.9.2)\n",
            "Requirement already satisfied: datasets in /usr/local/lib/python3.10/dist-packages (from colbert-ai==0.2.19->ragatouille) (3.0.0)\n",
            "Requirement already satisfied: flask in /usr/local/lib/python3.10/dist-packages (from colbert-ai==0.2.19->ragatouille) (2.2.5)\n",
            "Requirement already satisfied: git-python in /usr/local/lib/python3.10/dist-packages (from colbert-ai==0.2.19->ragatouille) (1.0.3)\n",
            "Requirement already satisfied: python-dotenv in /usr/local/lib/python3.10/dist-packages (from colbert-ai==0.2.19->ragatouille) (1.0.1)\n",
            "Requirement already satisfied: ninja in /usr/local/lib/python3.10/dist-packages (from colbert-ai==0.2.19->ragatouille) (1.11.1.1)\n",
            "Requirement already satisfied: scipy in /usr/local/lib/python3.10/dist-packages (from colbert-ai==0.2.19->ragatouille) (1.13.1)\n",
            "Requirement already satisfied: tqdm in /usr/local/lib/python3.10/dist-packages (from colbert-ai==0.2.19->ragatouille) (4.66.5)\n",
            "Requirement already satisfied: ujson in /usr/local/lib/python3.10/dist-packages (from colbert-ai==0.2.19->ragatouille) (5.10.0)\n",
            "Requirement already satisfied: numpy in /usr/local/lib/python3.10/dist-packages (from fast-pytorch-kmeans==0.2.0.1->ragatouille) (1.26.4)\n",
            "Requirement already satisfied: pynvml in /usr/local/lib/python3.10/dist-packages (from fast-pytorch-kmeans==0.2.0.1->ragatouille) (11.5.3)\n",
            "Requirement already satisfied: catalogue<2.1.0,>=2.0.3 in /usr/local/lib/python3.10/dist-packages (from srsly==2.4.8->ragatouille) (2.0.10)\n",
            "Requirement already satisfied: packaging in /usr/local/lib/python3.10/dist-packages (from faiss-cpu<2.0.0,>=1.7.4->ragatouille) (24.1)\n",
            "Requirement already satisfied: PyYAML>=5.3 in /usr/local/lib/python3.10/dist-packages (from langchain>=0.1.0->ragatouille) (6.0.2)\n",
            "Requirement already satisfied: SQLAlchemy<3,>=1.4 in /usr/local/lib/python3.10/dist-packages (from langchain>=0.1.0->ragatouille) (2.0.34)\n",
            "Requirement already satisfied: aiohttp<4.0.0,>=3.8.3 in /usr/local/lib/python3.10/dist-packages (from langchain>=0.1.0->ragatouille) (3.10.5)\n",
            "Requirement already satisfied: async-timeout<5.0.0,>=4.0.0 in /usr/local/lib/python3.10/dist-packages (from langchain>=0.1.0->ragatouille) (4.0.3)\n",
            "Requirement already satisfied: langchain-text-splitters<0.4.0,>=0.3.0 in /usr/local/lib/python3.10/dist-packages (from langchain>=0.1.0->ragatouille) (0.3.0)\n",
            "Requirement already satisfied: langsmith<0.2.0,>=0.1.17 in /usr/local/lib/python3.10/dist-packages (from langchain>=0.1.0->ragatouille) (0.1.120)\n",
            "Requirement already satisfied: pydantic<3.0.0,>=2.7.4 in /usr/local/lib/python3.10/dist-packages (from langchain>=0.1.0->ragatouille) (2.9.1)\n",
            "Requirement already satisfied: requests<3,>=2 in /usr/local/lib/python3.10/dist-packages (from langchain>=0.1.0->ragatouille) (2.32.3)\n",
            "Requirement already satisfied: tenacity!=8.4.0,<9.0.0,>=8.1.0 in /usr/local/lib/python3.10/dist-packages (from langchain>=0.1.0->ragatouille) (8.5.0)\n",
            "Requirement already satisfied: jsonpatch<2.0,>=1.33 in /usr/local/lib/python3.10/dist-packages (from langchain_core>=0.1.4->ragatouille) (1.33)\n",
            "Requirement already satisfied: typing-extensions>=4.7 in /usr/local/lib/python3.10/dist-packages (from langchain_core>=0.1.4->ragatouille) (4.12.2)\n",
            "Requirement already satisfied: llama-index-agent-openai<0.4.0,>=0.3.1 in /usr/local/lib/python3.10/dist-packages (from llama-index>=0.7->ragatouille) (0.3.1)\n",
            "Requirement already satisfied: llama-index-cli<0.4.0,>=0.3.1 in /usr/local/lib/python3.10/dist-packages (from llama-index>=0.7->ragatouille) (0.3.1)\n",
            "Requirement already satisfied: llama-index-core<0.12.0,>=0.11.9 in /usr/local/lib/python3.10/dist-packages (from llama-index>=0.7->ragatouille) (0.11.9)\n",
            "Requirement already satisfied: llama-index-embeddings-openai<0.3.0,>=0.2.4 in /usr/local/lib/python3.10/dist-packages (from llama-index>=0.7->ragatouille) (0.2.5)\n",
            "Requirement already satisfied: llama-index-indices-managed-llama-cloud>=0.3.0 in /usr/local/lib/python3.10/dist-packages (from llama-index>=0.7->ragatouille) (0.3.1)\n",
            "Requirement already satisfied: llama-index-legacy<0.10.0,>=0.9.48 in /usr/local/lib/python3.10/dist-packages (from llama-index>=0.7->ragatouille) (0.9.48.post3)\n",
            "Requirement already satisfied: llama-index-llms-openai<0.3.0,>=0.2.3 in /usr/local/lib/python3.10/dist-packages (from llama-index>=0.7->ragatouille) (0.2.7)\n",
            "Requirement already satisfied: llama-index-multi-modal-llms-openai<0.3.0,>=0.2.0 in /usr/local/lib/python3.10/dist-packages (from llama-index>=0.7->ragatouille) (0.2.1)\n",
            "Requirement already satisfied: llama-index-program-openai<0.3.0,>=0.2.0 in /usr/local/lib/python3.10/dist-packages (from llama-index>=0.7->ragatouille) (0.2.0)\n",
            "Requirement already satisfied: llama-index-question-gen-openai<0.3.0,>=0.2.0 in /usr/local/lib/python3.10/dist-packages (from llama-index>=0.7->ragatouille) (0.2.0)\n",
            "Requirement already satisfied: llama-index-readers-file<0.3.0,>=0.2.0 in /usr/local/lib/python3.10/dist-packages (from llama-index>=0.7->ragatouille) (0.2.1)\n",
            "Requirement already satisfied: llama-index-readers-llama-parse>=0.3.0 in /usr/local/lib/python3.10/dist-packages (from llama-index>=0.7->ragatouille) (0.3.0)\n",
            "Requirement already satisfied: nltk>3.8.1 in /usr/local/lib/python3.10/dist-packages (from llama-index>=0.7->ragatouille) (3.9.1)\n",
            "Requirement already satisfied: protobuf>=3.20.2 in /usr/local/lib/python3.10/dist-packages (from onnx<2.0.0,>=1.15.0->ragatouille) (3.20.3)\n",
            "Requirement already satisfied: scikit-learn in /usr/local/lib/python3.10/dist-packages (from sentence-transformers<3.0.0,>=2.2.2->ragatouille) (1.3.2)\n",
            "Requirement already satisfied: huggingface-hub>=0.15.1 in /usr/local/lib/python3.10/dist-packages (from sentence-transformers<3.0.0,>=2.2.2->ragatouille) (0.24.6)\n",
            "Requirement already satisfied: Pillow in /usr/local/lib/python3.10/dist-packages (from sentence-transformers<3.0.0,>=2.2.2->ragatouille) (9.4.0)\n",
            "Requirement already satisfied: filelock in /usr/local/lib/python3.10/dist-packages (from torch>=1.13->ragatouille) (3.16.0)\n",
            "Requirement already satisfied: sympy in /usr/local/lib/python3.10/dist-packages (from torch>=1.13->ragatouille) (1.13.2)\n",
            "Requirement already satisfied: networkx in /usr/local/lib/python3.10/dist-packages (from torch>=1.13->ragatouille) (3.3)\n",
            "Requirement already satisfied: jinja2 in /usr/local/lib/python3.10/dist-packages (from torch>=1.13->ragatouille) (3.1.4)\n",
            "Requirement already satisfied: fsspec in /usr/local/lib/python3.10/dist-packages (from torch>=1.13->ragatouille) (2024.6.1)\n",
            "Requirement already satisfied: regex!=2019.12.17 in /usr/local/lib/python3.10/dist-packages (from transformers<5.0.0,>=4.36.2->ragatouille) (2024.5.15)\n",
            "Requirement already satisfied: safetensors>=0.4.1 in /usr/local/lib/python3.10/dist-packages (from transformers<5.0.0,>=4.36.2->ragatouille) (0.4.5)\n",
            "Requirement already satisfied: tokenizers<0.20,>=0.19 in /usr/local/lib/python3.10/dist-packages (from transformers<5.0.0,>=4.36.2->ragatouille) (0.19.1)\n",
            "Requirement already satisfied: aiohappyeyeballs>=2.3.0 in /usr/local/lib/python3.10/dist-packages (from aiohttp<4.0.0,>=3.8.3->langchain>=0.1.0->ragatouille) (2.4.0)\n",
            "Requirement already satisfied: aiosignal>=1.1.2 in /usr/local/lib/python3.10/dist-packages (from aiohttp<4.0.0,>=3.8.3->langchain>=0.1.0->ragatouille) (1.3.1)\n",
            "Requirement already satisfied: attrs>=17.3.0 in /usr/local/lib/python3.10/dist-packages (from aiohttp<4.0.0,>=3.8.3->langchain>=0.1.0->ragatouille) (24.2.0)\n",
            "Requirement already satisfied: frozenlist>=1.1.1 in /usr/local/lib/python3.10/dist-packages (from aiohttp<4.0.0,>=3.8.3->langchain>=0.1.0->ragatouille) (1.4.1)\n",
            "Requirement already satisfied: multidict<7.0,>=4.5 in /usr/local/lib/python3.10/dist-packages (from aiohttp<4.0.0,>=3.8.3->langchain>=0.1.0->ragatouille) (6.1.0)\n",
            "Requirement already satisfied: yarl<2.0,>=1.0 in /usr/local/lib/python3.10/dist-packages (from aiohttp<4.0.0,>=3.8.3->langchain>=0.1.0->ragatouille) (1.11.1)\n",
            "Requirement already satisfied: jsonpointer>=1.9 in /usr/local/lib/python3.10/dist-packages (from jsonpatch<2.0,>=1.33->langchain_core>=0.1.4->ragatouille) (3.0.0)\n",
            "Requirement already satisfied: httpx<1,>=0.23.0 in /usr/local/lib/python3.10/dist-packages (from langsmith<0.2.0,>=0.1.17->langchain>=0.1.0->ragatouille) (0.27.2)\n",
            "Requirement already satisfied: orjson<4.0.0,>=3.9.14 in /usr/local/lib/python3.10/dist-packages (from langsmith<0.2.0,>=0.1.17->langchain>=0.1.0->ragatouille) (3.10.7)\n",
            "Requirement already satisfied: openai>=1.14.0 in /usr/local/lib/python3.10/dist-packages (from llama-index-agent-openai<0.4.0,>=0.3.1->llama-index>=0.7->ragatouille) (1.45.0)\n",
            "Requirement already satisfied: dataclasses-json in /usr/local/lib/python3.10/dist-packages (from llama-index-core<0.12.0,>=0.11.9->llama-index>=0.7->ragatouille) (0.6.7)\n",
            "Requirement already satisfied: deprecated>=1.2.9.3 in /usr/local/lib/python3.10/dist-packages (from llama-index-core<0.12.0,>=0.11.9->llama-index>=0.7->ragatouille) (1.2.14)\n",
            "Requirement already satisfied: dirtyjson<2.0.0,>=1.0.8 in /usr/local/lib/python3.10/dist-packages (from llama-index-core<0.12.0,>=0.11.9->llama-index>=0.7->ragatouille) (1.0.8)\n",
            "Requirement already satisfied: nest-asyncio<2.0.0,>=1.5.8 in /usr/local/lib/python3.10/dist-packages (from llama-index-core<0.12.0,>=0.11.9->llama-index>=0.7->ragatouille) (1.6.0)\n",
            "Requirement already satisfied: tiktoken>=0.3.3 in /usr/local/lib/python3.10/dist-packages (from llama-index-core<0.12.0,>=0.11.9->llama-index>=0.7->ragatouille) (0.7.0)\n",
            "Requirement already satisfied: typing-inspect>=0.8.0 in /usr/local/lib/python3.10/dist-packages (from llama-index-core<0.12.0,>=0.11.9->llama-index>=0.7->ragatouille) (0.9.0)\n",
            "Requirement already satisfied: wrapt in /usr/local/lib/python3.10/dist-packages (from llama-index-core<0.12.0,>=0.11.9->llama-index>=0.7->ragatouille) (1.16.0)\n",
            "Requirement already satisfied: llama-cloud>=0.0.11 in /usr/local/lib/python3.10/dist-packages (from llama-index-indices-managed-llama-cloud>=0.3.0->llama-index>=0.7->ragatouille) (0.0.17)\n",
            "Requirement already satisfied: pandas in /usr/local/lib/python3.10/dist-packages (from llama-index-legacy<0.10.0,>=0.9.48->llama-index>=0.7->ragatouille) (2.1.4)\n",
            "Requirement already satisfied: beautifulsoup4<5.0.0,>=4.12.3 in /usr/local/lib/python3.10/dist-packages (from llama-index-readers-file<0.3.0,>=0.2.0->llama-index>=0.7->ragatouille) (4.12.3)\n",
            "Requirement already satisfied: pypdf<5.0.0,>=4.0.1 in /usr/local/lib/python3.10/dist-packages (from llama-index-readers-file<0.3.0,>=0.2.0->llama-index>=0.7->ragatouille) (4.3.1)\n",
            "Requirement already satisfied: striprtf<0.0.27,>=0.0.26 in /usr/local/lib/python3.10/dist-packages (from llama-index-readers-file<0.3.0,>=0.2.0->llama-index>=0.7->ragatouille) (0.0.26)\n",
            "Requirement already satisfied: llama-parse>=0.5.0 in /usr/local/lib/python3.10/dist-packages (from llama-index-readers-llama-parse>=0.3.0->llama-index>=0.7->ragatouille) (0.5.5)\n",
            "Requirement already satisfied: click in /usr/local/lib/python3.10/dist-packages (from nltk>3.8.1->llama-index>=0.7->ragatouille) (8.1.7)\n",
            "Requirement already satisfied: joblib in /usr/local/lib/python3.10/dist-packages (from nltk>3.8.1->llama-index>=0.7->ragatouille) (1.4.2)\n",
            "Requirement already satisfied: annotated-types>=0.6.0 in /usr/local/lib/python3.10/dist-packages (from pydantic<3.0.0,>=2.7.4->langchain>=0.1.0->ragatouille) (0.7.0)\n",
            "Requirement already satisfied: pydantic-core==2.23.3 in /usr/local/lib/python3.10/dist-packages (from pydantic<3.0.0,>=2.7.4->langchain>=0.1.0->ragatouille) (2.23.3)\n",
            "Requirement already satisfied: charset-normalizer<4,>=2 in /usr/local/lib/python3.10/dist-packages (from requests<3,>=2->langchain>=0.1.0->ragatouille) (3.3.2)\n",
            "Requirement already satisfied: idna<4,>=2.5 in /usr/local/lib/python3.10/dist-packages (from requests<3,>=2->langchain>=0.1.0->ragatouille) (3.8)\n",
            "Requirement already satisfied: urllib3<3,>=1.21.1 in /usr/local/lib/python3.10/dist-packages (from requests<3,>=2->langchain>=0.1.0->ragatouille) (2.0.7)\n",
            "Requirement already satisfied: certifi>=2017.4.17 in /usr/local/lib/python3.10/dist-packages (from requests<3,>=2->langchain>=0.1.0->ragatouille) (2024.8.30)\n",
            "Requirement already satisfied: greenlet!=0.4.17 in /usr/local/lib/python3.10/dist-packages (from SQLAlchemy<3,>=1.4->langchain>=0.1.0->ragatouille) (3.1.0)\n",
            "Requirement already satisfied: pyarrow>=15.0.0 in /usr/local/lib/python3.10/dist-packages (from datasets->colbert-ai==0.2.19->ragatouille) (17.0.0)\n",
            "Requirement already satisfied: dill<0.3.9,>=0.3.0 in /usr/local/lib/python3.10/dist-packages (from datasets->colbert-ai==0.2.19->ragatouille) (0.3.8)\n",
            "Requirement already satisfied: xxhash in /usr/local/lib/python3.10/dist-packages (from datasets->colbert-ai==0.2.19->ragatouille) (3.5.0)\n",
            "Requirement already satisfied: multiprocess in /usr/local/lib/python3.10/dist-packages (from datasets->colbert-ai==0.2.19->ragatouille) (0.70.16)\n",
            "Requirement already satisfied: Werkzeug>=2.2.2 in /usr/local/lib/python3.10/dist-packages (from flask->colbert-ai==0.2.19->ragatouille) (3.0.4)\n",
            "Requirement already satisfied: itsdangerous>=2.0 in /usr/local/lib/python3.10/dist-packages (from flask->colbert-ai==0.2.19->ragatouille) (2.2.0)\n",
            "Requirement already satisfied: MarkupSafe>=2.0 in /usr/local/lib/python3.10/dist-packages (from jinja2->torch>=1.13->ragatouille) (2.1.5)\n",
            "Requirement already satisfied: gitpython in /usr/local/lib/python3.10/dist-packages (from git-python->colbert-ai==0.2.19->ragatouille) (3.1.43)\n",
            "Requirement already satisfied: threadpoolctl>=2.0.0 in /usr/local/lib/python3.10/dist-packages (from scikit-learn->sentence-transformers<3.0.0,>=2.2.2->ragatouille) (3.5.0)\n",
            "Requirement already satisfied: mpmath<1.4,>=1.1.0 in /usr/local/lib/python3.10/dist-packages (from sympy->torch>=1.13->ragatouille) (1.3.0)\n",
            "Requirement already satisfied: soupsieve>1.2 in /usr/local/lib/python3.10/dist-packages (from beautifulsoup4<5.0.0,>=4.12.3->llama-index-readers-file<0.3.0,>=0.2.0->llama-index>=0.7->ragatouille) (2.6)\n",
            "Requirement already satisfied: anyio in /usr/local/lib/python3.10/dist-packages (from httpx<1,>=0.23.0->langsmith<0.2.0,>=0.1.17->langchain>=0.1.0->ragatouille) (3.7.1)\n",
            "Requirement already satisfied: httpcore==1.* in /usr/local/lib/python3.10/dist-packages (from httpx<1,>=0.23.0->langsmith<0.2.0,>=0.1.17->langchain>=0.1.0->ragatouille) (1.0.5)\n",
            "Requirement already satisfied: sniffio in /usr/local/lib/python3.10/dist-packages (from httpx<1,>=0.23.0->langsmith<0.2.0,>=0.1.17->langchain>=0.1.0->ragatouille) (1.3.1)\n",
            "Requirement already satisfied: h11<0.15,>=0.13 in /usr/local/lib/python3.10/dist-packages (from httpcore==1.*->httpx<1,>=0.23.0->langsmith<0.2.0,>=0.1.17->langchain>=0.1.0->ragatouille) (0.14.0)\n",
            "Requirement already satisfied: distro<2,>=1.7.0 in /usr/lib/python3/dist-packages (from openai>=1.14.0->llama-index-agent-openai<0.4.0,>=0.3.1->llama-index>=0.7->ragatouille) (1.7.0)\n",
            "Requirement already satisfied: jiter<1,>=0.4.0 in /usr/local/lib/python3.10/dist-packages (from openai>=1.14.0->llama-index-agent-openai<0.4.0,>=0.3.1->llama-index>=0.7->ragatouille) (0.5.0)\n",
            "Requirement already satisfied: mypy-extensions>=0.3.0 in /usr/local/lib/python3.10/dist-packages (from typing-inspect>=0.8.0->llama-index-core<0.12.0,>=0.11.9->llama-index>=0.7->ragatouille) (1.0.0)\n",
            "Requirement already satisfied: marshmallow<4.0.0,>=3.18.0 in /usr/local/lib/python3.10/dist-packages (from dataclasses-json->llama-index-core<0.12.0,>=0.11.9->llama-index>=0.7->ragatouille) (3.22.0)\n",
            "Requirement already satisfied: gitdb<5,>=4.0.1 in /usr/local/lib/python3.10/dist-packages (from gitpython->git-python->colbert-ai==0.2.19->ragatouille) (4.0.11)\n",
            "Requirement already satisfied: python-dateutil>=2.8.2 in /usr/local/lib/python3.10/dist-packages (from pandas->llama-index-legacy<0.10.0,>=0.9.48->llama-index>=0.7->ragatouille) (2.8.2)\n",
            "Requirement already satisfied: pytz>=2020.1 in /usr/local/lib/python3.10/dist-packages (from pandas->llama-index-legacy<0.10.0,>=0.9.48->llama-index>=0.7->ragatouille) (2024.2)\n",
            "Requirement already satisfied: tzdata>=2022.1 in /usr/local/lib/python3.10/dist-packages (from pandas->llama-index-legacy<0.10.0,>=0.9.48->llama-index>=0.7->ragatouille) (2024.1)\n",
            "Requirement already satisfied: exceptiongroup in /usr/local/lib/python3.10/dist-packages (from anyio->httpx<1,>=0.23.0->langsmith<0.2.0,>=0.1.17->langchain>=0.1.0->ragatouille) (1.2.2)\n",
            "Requirement already satisfied: smmap<6,>=3.0.1 in /usr/local/lib/python3.10/dist-packages (from gitdb<5,>=4.0.1->gitpython->git-python->colbert-ai==0.2.19->ragatouille) (5.0.1)\n",
            "Requirement already satisfied: six>=1.5 in /usr/local/lib/python3.10/dist-packages (from python-dateutil>=2.8.2->pandas->llama-index-legacy<0.10.0,>=0.9.48->llama-index>=0.7->ragatouille) (1.16.0)\n"
          ]
        }
      ],
      "source": [
        "!pip install ragatouille\n"
      ]
    },
    {
      "cell_type": "code",
      "source": [
        "import pandas as pd"
      ],
      "metadata": {
        "id": "z-AjdENmAQ6f"
      },
      "execution_count": 2,
      "outputs": []
    },
    {
      "cell_type": "code",
      "source": [
        "cleaned_queries_df = pd.read_csv('cleaned_queries.csv')\n"
      ],
      "metadata": {
        "id": "Rn4AWYAOFK7Y"
      },
      "execution_count": 3,
      "outputs": []
    },
    {
      "cell_type": "code",
      "source": [
        "cleaned_corpus_df = pd.read_csv('cleaned_corpus.csv')\n",
        "\n",
        "# Extract the document texts and (optionally) metadata\n",
        "my_documents = cleaned_corpus_df['body'].tolist()\n",
        "\n",
        "# Create document IDs and metadata\n",
        "document_ids = cleaned_corpus_df['uuid'].tolist()  # Assuming 'uuid' column exists\n",
        "document_metadatas = [{\"entity\": \"document\", \"source\": \"custom_corpus\"} for _ in range(len(my_documents))]\n"
      ],
      "metadata": {
        "id": "vPLg3ZIA_yEM"
      },
      "execution_count": 4,
      "outputs": []
    },
    {
      "cell_type": "markdown",
      "source": [
        "# Train RAG"
      ],
      "metadata": {
        "id": "pFxOuJjMjVvS"
      }
    },
    {
      "cell_type": "code",
      "source": [
        "from ragatouille import RAGPretrainedModel\n"
      ],
      "metadata": {
        "id": "a8TOzk9WBCEP"
      },
      "execution_count": 5,
      "outputs": []
    },
    {
      "cell_type": "code",
      "source": [
        "\n",
        "# Load a pretrained model for indexing\n",
        "RAG = RAGPretrainedModel.from_pretrained(\"colbert-ir/colbertv2.0\")\n",
        "\n",
        "# Create the index\n",
        "index_path = RAG.index(\n",
        "    index_name=\"my_custom_index\",\n",
        "    collection=my_documents,\n",
        "    document_ids=document_ids,  # Optional\n",
        "    document_metadatas=document_metadatas  # Optional\n",
        ")\n"
      ],
      "metadata": {
        "colab": {
          "base_uri": "https://localhost:8080/"
        },
        "id": "PL0FHFtHAbzZ",
        "outputId": "13b1296d-d2ea-44af-acc2-b9d2aabfb7c7"
      },
      "execution_count": 6,
      "outputs": [
        {
          "output_type": "stream",
          "name": "stderr",
          "text": [
            "/usr/local/lib/python3.10/dist-packages/huggingface_hub/utils/_token.py:89: UserWarning: \n",
            "The secret `HF_TOKEN` does not exist in your Colab secrets.\n",
            "To authenticate with the Hugging Face Hub, create a token in your settings tab (https://huggingface.co/settings/tokens), set it as secret in your Google Colab and restart your session.\n",
            "You will be able to reuse this secret in all of your notebooks.\n",
            "Please note that authentication is recommended but still optional to access public models or datasets.\n",
            "  warnings.warn(\n",
            "/usr/local/lib/python3.10/dist-packages/transformers/tokenization_utils_base.py:1601: FutureWarning: `clean_up_tokenization_spaces` was not set. It will be set to `True` by default. This behavior will be depracted in transformers v4.45, and will be then set to `False` by default. For more details check this issue: https://github.com/huggingface/transformers/issues/31884\n",
            "  warnings.warn(\n",
            "/usr/local/lib/python3.10/dist-packages/colbert/utils/amp.py:12: FutureWarning: `torch.cuda.amp.GradScaler(args...)` is deprecated. Please use `torch.amp.GradScaler('cuda', args...)` instead.\n",
            "  self.scaler = torch.cuda.amp.GradScaler()\n"
          ]
        },
        {
          "output_type": "stream",
          "name": "stdout",
          "text": [
            "---- WARNING! You are using PLAID with an experimental replacement for FAISS for greater compatibility ----\n",
            "This is a behaviour change from RAGatouille 0.8.0 onwards.\n",
            "This works fine for most users and smallish datasets, but can be considerably slower than FAISS and could cause worse results in some situations.\n",
            "If you're confident with FAISS working on your machine, pass use_faiss=True to revert to the FAISS-using behaviour.\n",
            "--------------------\n",
            "\n",
            "\n",
            "[Sep 16, 01:50:56] #> Note: Output directory .ragatouille/colbert/indexes/my_custom_index already exists\n",
            "\n",
            "\n",
            "[Sep 16, 01:50:56] #> Will delete 11 files already at .ragatouille/colbert/indexes/my_custom_index in 20 seconds...\n",
            "[Sep 16, 01:51:18] [0] \t\t #> Encoding 7714 passages..\n"
          ]
        },
        {
          "output_type": "stream",
          "name": "stderr",
          "text": [
            "/usr/local/lib/python3.10/dist-packages/colbert/utils/amp.py:15: FutureWarning: `torch.cuda.amp.autocast(args...)` is deprecated. Please use `torch.amp.autocast('cuda', args...)` instead.\n",
            "  return torch.cuda.amp.autocast() if self.activated else NullContextManager()\n"
          ]
        },
        {
          "output_type": "stream",
          "name": "stdout",
          "text": [
            "[Sep 16, 01:51:53] [0] \t\t avg_doclen_est = 197.15853881835938 \t len(local_sample) = 7,714\n",
            "[Sep 16, 01:51:54] [0] \t\t Creating 16,384 partitions.\n",
            "[Sep 16, 01:51:54] [0] \t\t *Estimated* 1,520,880 embeddings.\n",
            "[Sep 16, 01:51:54] [0] \t\t #> Saving the indexing plan to .ragatouille/colbert/indexes/my_custom_index/plan.json ..\n"
          ]
        },
        {
          "output_type": "stream",
          "name": "stderr",
          "text": [
            "/usr/local/lib/python3.10/dist-packages/colbert/indexing/collection_indexer.py:256: FutureWarning: You are using `torch.load` with `weights_only=False` (the current default value), which uses the default pickle module implicitly. It is possible to construct malicious pickle data which will execute arbitrary code during unpickling (See https://github.com/pytorch/pytorch/blob/main/SECURITY.md#untrusted-models for more details). In a future release, the default value for `weights_only` will be flipped to `True`. This limits the functions that could be executed during unpickling. Arbitrary objects will no longer be allowed to be loaded via this mode unless they are explicitly allowlisted by the user via `torch.serialization.add_safe_globals`. We recommend you start setting `weights_only=True` for any use case where you don't have full control of the loaded file. Please open an issue on GitHub for any issues related to this experimental feature.\n",
            "  sub_sample = torch.load(sub_sample_path)\n"
          ]
        },
        {
          "output_type": "stream",
          "name": "stdout",
          "text": [
            "used 20 iterations (2.2729s) to cluster 1470881 items into 16384 clusters\n",
            "[Sep 16, 01:51:58] Loading decompress_residuals_cpp extension (set COLBERT_LOAD_TORCH_EXTENSION_VERBOSE=True for more info)...\n"
          ]
        },
        {
          "output_type": "stream",
          "name": "stderr",
          "text": [
            "/usr/local/lib/python3.10/dist-packages/torch/utils/cpp_extension.py:1965: UserWarning: TORCH_CUDA_ARCH_LIST is not set, all archs for visible cards are included for compilation. \n",
            "If this is not desired, please set os.environ['TORCH_CUDA_ARCH_LIST'].\n",
            "  warnings.warn(\n"
          ]
        },
        {
          "output_type": "stream",
          "name": "stdout",
          "text": [
            "[Sep 16, 01:51:58] Loading packbits_cpp extension (set COLBERT_LOAD_TORCH_EXTENSION_VERBOSE=True for more info)...\n"
          ]
        },
        {
          "output_type": "stream",
          "name": "stderr",
          "text": [
            "/usr/local/lib/python3.10/dist-packages/torch/utils/cpp_extension.py:1965: UserWarning: TORCH_CUDA_ARCH_LIST is not set, all archs for visible cards are included for compilation. \n",
            "If this is not desired, please set os.environ['TORCH_CUDA_ARCH_LIST'].\n",
            "  warnings.warn(\n"
          ]
        },
        {
          "output_type": "stream",
          "name": "stdout",
          "text": [
            "[0.043, 0.044, 0.046, 0.041, 0.041, 0.044, 0.041, 0.041, 0.039, 0.041, 0.041, 0.042, 0.043, 0.045, 0.041, 0.044, 0.038, 0.042, 0.043, 0.042, 0.043, 0.043, 0.041, 0.043, 0.04, 0.04, 0.043, 0.041, 0.043, 0.044, 0.043, 0.047, 0.047, 0.04, 0.041, 0.039, 0.044, 0.043, 0.043, 0.049, 0.043, 0.042, 0.042, 0.042, 0.044, 0.041, 0.04, 0.046, 0.044, 0.041, 0.04, 0.041, 0.044, 0.043, 0.043, 0.042, 0.047, 0.044, 0.051, 0.04, 0.04, 0.045, 0.042, 0.043, 0.045, 0.044, 0.044, 0.042, 0.04, 0.041, 0.043, 0.041, 0.041, 0.044, 0.041, 0.043, 0.043, 0.047, 0.045, 0.043, 0.046, 0.043, 0.043, 0.044, 0.043, 0.042, 0.043, 0.042, 0.04, 0.048, 0.041, 0.044, 0.043, 0.044, 0.042, 0.044, 0.046, 0.04, 0.043, 0.043, 0.045, 0.045, 0.041, 0.043, 0.044, 0.042, 0.043, 0.04, 0.042, 0.04, 0.043, 0.043, 0.046, 0.041, 0.043, 0.042, 0.043, 0.043, 0.043, 0.043, 0.04, 0.042, 0.042, 0.044, 0.039, 0.043, 0.044, 0.041]\n"
          ]
        },
        {
          "output_type": "stream",
          "name": "stderr",
          "text": [
            "/usr/local/lib/python3.10/dist-packages/colbert/indexing/codecs/residual.py:141: FutureWarning: You are using `torch.load` with `weights_only=False` (the current default value), which uses the default pickle module implicitly. It is possible to construct malicious pickle data which will execute arbitrary code during unpickling (See https://github.com/pytorch/pytorch/blob/main/SECURITY.md#untrusted-models for more details). In a future release, the default value for `weights_only` will be flipped to `True`. This limits the functions that could be executed during unpickling. Arbitrary objects will no longer be allowed to be loaded via this mode unless they are explicitly allowlisted by the user via `torch.serialization.add_safe_globals`. We recommend you start setting `weights_only=True` for any use case where you don't have full control of the loaded file. Please open an issue on GitHub for any issues related to this experimental feature.\n",
            "  centroids = torch.load(centroids_path, map_location='cpu')\n",
            "/usr/local/lib/python3.10/dist-packages/colbert/indexing/codecs/residual.py:142: FutureWarning: You are using `torch.load` with `weights_only=False` (the current default value), which uses the default pickle module implicitly. It is possible to construct malicious pickle data which will execute arbitrary code during unpickling (See https://github.com/pytorch/pytorch/blob/main/SECURITY.md#untrusted-models for more details). In a future release, the default value for `weights_only` will be flipped to `True`. This limits the functions that could be executed during unpickling. Arbitrary objects will no longer be allowed to be loaded via this mode unless they are explicitly allowlisted by the user via `torch.serialization.add_safe_globals`. We recommend you start setting `weights_only=True` for any use case where you don't have full control of the loaded file. Please open an issue on GitHub for any issues related to this experimental feature.\n",
            "  avg_residual = torch.load(avgresidual_path, map_location='cpu')\n",
            "/usr/local/lib/python3.10/dist-packages/colbert/indexing/codecs/residual.py:143: FutureWarning: You are using `torch.load` with `weights_only=False` (the current default value), which uses the default pickle module implicitly. It is possible to construct malicious pickle data which will execute arbitrary code during unpickling (See https://github.com/pytorch/pytorch/blob/main/SECURITY.md#untrusted-models for more details). In a future release, the default value for `weights_only` will be flipped to `True`. This limits the functions that could be executed during unpickling. Arbitrary objects will no longer be allowed to be loaded via this mode unless they are explicitly allowlisted by the user via `torch.serialization.add_safe_globals`. We recommend you start setting `weights_only=True` for any use case where you don't have full control of the loaded file. Please open an issue on GitHub for any issues related to this experimental feature.\n",
            "  bucket_cutoffs, bucket_weights = torch.load(buckets_path, map_location='cpu')\n",
            "0it [00:00, ?it/s]"
          ]
        },
        {
          "output_type": "stream",
          "name": "stdout",
          "text": [
            "[Sep 16, 01:51:58] [0] \t\t #> Encoding 7714 passages..\n"
          ]
        },
        {
          "output_type": "stream",
          "name": "stderr",
          "text": [
            "/usr/local/lib/python3.10/dist-packages/colbert/utils/amp.py:15: FutureWarning: `torch.cuda.amp.autocast(args...)` is deprecated. Please use `torch.amp.autocast('cuda', args...)` instead.\n",
            "  return torch.cuda.amp.autocast() if self.activated else NullContextManager()\n",
            "1it [00:33, 33.71s/it]\n",
            "  0%|          | 0/1 [00:00<?, ?it/s]/usr/local/lib/python3.10/dist-packages/colbert/indexing/codecs/residual_embeddings.py:86: FutureWarning: You are using `torch.load` with `weights_only=False` (the current default value), which uses the default pickle module implicitly. It is possible to construct malicious pickle data which will execute arbitrary code during unpickling (See https://github.com/pytorch/pytorch/blob/main/SECURITY.md#untrusted-models for more details). In a future release, the default value for `weights_only` will be flipped to `True`. This limits the functions that could be executed during unpickling. Arbitrary objects will no longer be allowed to be loaded via this mode unless they are explicitly allowlisted by the user via `torch.serialization.add_safe_globals`. We recommend you start setting `weights_only=True` for any use case where you don't have full control of the loaded file. Please open an issue on GitHub for any issues related to this experimental feature.\n",
            "  return torch.load(codes_path, map_location='cpu')\n",
            "100%|██████████| 1/1 [00:00<00:00, 191.75it/s]\n"
          ]
        },
        {
          "output_type": "stream",
          "name": "stdout",
          "text": [
            "[Sep 16, 01:52:32] #> Optimizing IVF to store map from centroids to list of pids..\n",
            "[Sep 16, 01:52:32] #> Building the emb2pid mapping..\n",
            "[Sep 16, 01:52:32] len(emb2pid) = 1520881\n"
          ]
        },
        {
          "output_type": "stream",
          "name": "stderr",
          "text": [
            "100%|██████████| 16384/16384 [00:00<00:00, 69175.20it/s]"
          ]
        },
        {
          "output_type": "stream",
          "name": "stdout",
          "text": [
            "[Sep 16, 01:52:32] #> Saved optimized IVF to .ragatouille/colbert/indexes/my_custom_index/ivf.pid.pt\n"
          ]
        },
        {
          "output_type": "stream",
          "name": "stderr",
          "text": [
            "\n"
          ]
        },
        {
          "output_type": "stream",
          "name": "stdout",
          "text": [
            "Done indexing!\n"
          ]
        }
      ]
    },
    {
      "cell_type": "code",
      "source": [
        "index_path"
      ],
      "metadata": {
        "colab": {
          "base_uri": "https://localhost:8080/",
          "height": 35
        },
        "id": "rw3y94a-FyuB",
        "outputId": "06f1e078-5eb8-4eae-e908-7c3d397269b2"
      },
      "execution_count": 7,
      "outputs": [
        {
          "output_type": "execute_result",
          "data": {
            "text/plain": [
              "'.ragatouille/colbert/indexes/my_custom_index'"
            ],
            "application/vnd.google.colaboratory.intrinsic+json": {
              "type": "string"
            }
          },
          "metadata": {},
          "execution_count": 7
        }
      ]
    },
    {
      "cell_type": "code",
      "source": [
        "!pip install spacy\n",
        "!python -m spacy download en_core_web_sm\n"
      ],
      "metadata": {
        "colab": {
          "base_uri": "https://localhost:8080/"
        },
        "id": "qp41tXymBErg",
        "outputId": "fb7e065e-9a54-43f2-9533-1e7f0b9e8aac"
      },
      "execution_count": 8,
      "outputs": [
        {
          "output_type": "stream",
          "name": "stdout",
          "text": [
            "Requirement already satisfied: spacy in /usr/local/lib/python3.10/dist-packages (3.7.6)\n",
            "Requirement already satisfied: spacy-legacy<3.1.0,>=3.0.11 in /usr/local/lib/python3.10/dist-packages (from spacy) (3.0.12)\n",
            "Requirement already satisfied: spacy-loggers<2.0.0,>=1.0.0 in /usr/local/lib/python3.10/dist-packages (from spacy) (1.0.5)\n",
            "Requirement already satisfied: murmurhash<1.1.0,>=0.28.0 in /usr/local/lib/python3.10/dist-packages (from spacy) (1.0.10)\n",
            "Requirement already satisfied: cymem<2.1.0,>=2.0.2 in /usr/local/lib/python3.10/dist-packages (from spacy) (2.0.8)\n",
            "Requirement already satisfied: preshed<3.1.0,>=3.0.2 in /usr/local/lib/python3.10/dist-packages (from spacy) (3.0.9)\n",
            "Requirement already satisfied: thinc<8.3.0,>=8.2.2 in /usr/local/lib/python3.10/dist-packages (from spacy) (8.2.5)\n",
            "Requirement already satisfied: wasabi<1.2.0,>=0.9.1 in /usr/local/lib/python3.10/dist-packages (from spacy) (1.1.3)\n",
            "Requirement already satisfied: srsly<3.0.0,>=2.4.3 in /usr/local/lib/python3.10/dist-packages (from spacy) (2.4.8)\n",
            "Requirement already satisfied: catalogue<2.1.0,>=2.0.6 in /usr/local/lib/python3.10/dist-packages (from spacy) (2.0.10)\n",
            "Requirement already satisfied: weasel<0.5.0,>=0.1.0 in /usr/local/lib/python3.10/dist-packages (from spacy) (0.4.1)\n",
            "Requirement already satisfied: typer<1.0.0,>=0.3.0 in /usr/local/lib/python3.10/dist-packages (from spacy) (0.12.5)\n",
            "Requirement already satisfied: tqdm<5.0.0,>=4.38.0 in /usr/local/lib/python3.10/dist-packages (from spacy) (4.66.5)\n",
            "Requirement already satisfied: requests<3.0.0,>=2.13.0 in /usr/local/lib/python3.10/dist-packages (from spacy) (2.32.3)\n",
            "Requirement already satisfied: pydantic!=1.8,!=1.8.1,<3.0.0,>=1.7.4 in /usr/local/lib/python3.10/dist-packages (from spacy) (2.9.1)\n",
            "Requirement already satisfied: jinja2 in /usr/local/lib/python3.10/dist-packages (from spacy) (3.1.4)\n",
            "Requirement already satisfied: setuptools in /usr/local/lib/python3.10/dist-packages (from spacy) (71.0.4)\n",
            "Requirement already satisfied: packaging>=20.0 in /usr/local/lib/python3.10/dist-packages (from spacy) (24.1)\n",
            "Requirement already satisfied: langcodes<4.0.0,>=3.2.0 in /usr/local/lib/python3.10/dist-packages (from spacy) (3.4.0)\n",
            "Requirement already satisfied: numpy>=1.19.0 in /usr/local/lib/python3.10/dist-packages (from spacy) (1.26.4)\n",
            "Requirement already satisfied: language-data>=1.2 in /usr/local/lib/python3.10/dist-packages (from langcodes<4.0.0,>=3.2.0->spacy) (1.2.0)\n",
            "Requirement already satisfied: annotated-types>=0.6.0 in /usr/local/lib/python3.10/dist-packages (from pydantic!=1.8,!=1.8.1,<3.0.0,>=1.7.4->spacy) (0.7.0)\n",
            "Requirement already satisfied: pydantic-core==2.23.3 in /usr/local/lib/python3.10/dist-packages (from pydantic!=1.8,!=1.8.1,<3.0.0,>=1.7.4->spacy) (2.23.3)\n",
            "Requirement already satisfied: typing-extensions>=4.6.1 in /usr/local/lib/python3.10/dist-packages (from pydantic!=1.8,!=1.8.1,<3.0.0,>=1.7.4->spacy) (4.12.2)\n",
            "Requirement already satisfied: charset-normalizer<4,>=2 in /usr/local/lib/python3.10/dist-packages (from requests<3.0.0,>=2.13.0->spacy) (3.3.2)\n",
            "Requirement already satisfied: idna<4,>=2.5 in /usr/local/lib/python3.10/dist-packages (from requests<3.0.0,>=2.13.0->spacy) (3.8)\n",
            "Requirement already satisfied: urllib3<3,>=1.21.1 in /usr/local/lib/python3.10/dist-packages (from requests<3.0.0,>=2.13.0->spacy) (2.0.7)\n",
            "Requirement already satisfied: certifi>=2017.4.17 in /usr/local/lib/python3.10/dist-packages (from requests<3.0.0,>=2.13.0->spacy) (2024.8.30)\n",
            "Requirement already satisfied: blis<0.8.0,>=0.7.8 in /usr/local/lib/python3.10/dist-packages (from thinc<8.3.0,>=8.2.2->spacy) (0.7.11)\n",
            "Requirement already satisfied: confection<1.0.0,>=0.0.1 in /usr/local/lib/python3.10/dist-packages (from thinc<8.3.0,>=8.2.2->spacy) (0.1.5)\n",
            "Requirement already satisfied: click>=8.0.0 in /usr/local/lib/python3.10/dist-packages (from typer<1.0.0,>=0.3.0->spacy) (8.1.7)\n",
            "Requirement already satisfied: shellingham>=1.3.0 in /usr/local/lib/python3.10/dist-packages (from typer<1.0.0,>=0.3.0->spacy) (1.5.4)\n",
            "Requirement already satisfied: rich>=10.11.0 in /usr/local/lib/python3.10/dist-packages (from typer<1.0.0,>=0.3.0->spacy) (13.8.1)\n",
            "Requirement already satisfied: cloudpathlib<1.0.0,>=0.7.0 in /usr/local/lib/python3.10/dist-packages (from weasel<0.5.0,>=0.1.0->spacy) (0.19.0)\n",
            "Requirement already satisfied: smart-open<8.0.0,>=5.2.1 in /usr/local/lib/python3.10/dist-packages (from weasel<0.5.0,>=0.1.0->spacy) (7.0.4)\n",
            "Requirement already satisfied: MarkupSafe>=2.0 in /usr/local/lib/python3.10/dist-packages (from jinja2->spacy) (2.1.5)\n",
            "Requirement already satisfied: marisa-trie>=0.7.7 in /usr/local/lib/python3.10/dist-packages (from language-data>=1.2->langcodes<4.0.0,>=3.2.0->spacy) (1.2.0)\n",
            "Requirement already satisfied: markdown-it-py>=2.2.0 in /usr/local/lib/python3.10/dist-packages (from rich>=10.11.0->typer<1.0.0,>=0.3.0->spacy) (3.0.0)\n",
            "Requirement already satisfied: pygments<3.0.0,>=2.13.0 in /usr/local/lib/python3.10/dist-packages (from rich>=10.11.0->typer<1.0.0,>=0.3.0->spacy) (2.16.1)\n",
            "Requirement already satisfied: wrapt in /usr/local/lib/python3.10/dist-packages (from smart-open<8.0.0,>=5.2.1->weasel<0.5.0,>=0.1.0->spacy) (1.16.0)\n",
            "Requirement already satisfied: mdurl~=0.1 in /usr/local/lib/python3.10/dist-packages (from markdown-it-py>=2.2.0->rich>=10.11.0->typer<1.0.0,>=0.3.0->spacy) (0.1.2)\n",
            "Collecting en-core-web-sm==3.7.1\n",
            "  Downloading https://github.com/explosion/spacy-models/releases/download/en_core_web_sm-3.7.1/en_core_web_sm-3.7.1-py3-none-any.whl (12.8 MB)\n",
            "\u001b[2K     \u001b[90m━━━━━━━━━━━━━━━━━━━━━━━━━━━━━━━━━━━━━━━━\u001b[0m \u001b[32m12.8/12.8 MB\u001b[0m \u001b[31m75.4 MB/s\u001b[0m eta \u001b[36m0:00:00\u001b[0m\n",
            "\u001b[?25hRequirement already satisfied: spacy<3.8.0,>=3.7.2 in /usr/local/lib/python3.10/dist-packages (from en-core-web-sm==3.7.1) (3.7.6)\n",
            "Requirement already satisfied: spacy-legacy<3.1.0,>=3.0.11 in /usr/local/lib/python3.10/dist-packages (from spacy<3.8.0,>=3.7.2->en-core-web-sm==3.7.1) (3.0.12)\n",
            "Requirement already satisfied: spacy-loggers<2.0.0,>=1.0.0 in /usr/local/lib/python3.10/dist-packages (from spacy<3.8.0,>=3.7.2->en-core-web-sm==3.7.1) (1.0.5)\n",
            "Requirement already satisfied: murmurhash<1.1.0,>=0.28.0 in /usr/local/lib/python3.10/dist-packages (from spacy<3.8.0,>=3.7.2->en-core-web-sm==3.7.1) (1.0.10)\n",
            "Requirement already satisfied: cymem<2.1.0,>=2.0.2 in /usr/local/lib/python3.10/dist-packages (from spacy<3.8.0,>=3.7.2->en-core-web-sm==3.7.1) (2.0.8)\n",
            "Requirement already satisfied: preshed<3.1.0,>=3.0.2 in /usr/local/lib/python3.10/dist-packages (from spacy<3.8.0,>=3.7.2->en-core-web-sm==3.7.1) (3.0.9)\n",
            "Requirement already satisfied: thinc<8.3.0,>=8.2.2 in /usr/local/lib/python3.10/dist-packages (from spacy<3.8.0,>=3.7.2->en-core-web-sm==3.7.1) (8.2.5)\n",
            "Requirement already satisfied: wasabi<1.2.0,>=0.9.1 in /usr/local/lib/python3.10/dist-packages (from spacy<3.8.0,>=3.7.2->en-core-web-sm==3.7.1) (1.1.3)\n",
            "Requirement already satisfied: srsly<3.0.0,>=2.4.3 in /usr/local/lib/python3.10/dist-packages (from spacy<3.8.0,>=3.7.2->en-core-web-sm==3.7.1) (2.4.8)\n",
            "Requirement already satisfied: catalogue<2.1.0,>=2.0.6 in /usr/local/lib/python3.10/dist-packages (from spacy<3.8.0,>=3.7.2->en-core-web-sm==3.7.1) (2.0.10)\n",
            "Requirement already satisfied: weasel<0.5.0,>=0.1.0 in /usr/local/lib/python3.10/dist-packages (from spacy<3.8.0,>=3.7.2->en-core-web-sm==3.7.1) (0.4.1)\n",
            "Requirement already satisfied: typer<1.0.0,>=0.3.0 in /usr/local/lib/python3.10/dist-packages (from spacy<3.8.0,>=3.7.2->en-core-web-sm==3.7.1) (0.12.5)\n",
            "Requirement already satisfied: tqdm<5.0.0,>=4.38.0 in /usr/local/lib/python3.10/dist-packages (from spacy<3.8.0,>=3.7.2->en-core-web-sm==3.7.1) (4.66.5)\n",
            "Requirement already satisfied: requests<3.0.0,>=2.13.0 in /usr/local/lib/python3.10/dist-packages (from spacy<3.8.0,>=3.7.2->en-core-web-sm==3.7.1) (2.32.3)\n",
            "Requirement already satisfied: pydantic!=1.8,!=1.8.1,<3.0.0,>=1.7.4 in /usr/local/lib/python3.10/dist-packages (from spacy<3.8.0,>=3.7.2->en-core-web-sm==3.7.1) (2.9.1)\n",
            "Requirement already satisfied: jinja2 in /usr/local/lib/python3.10/dist-packages (from spacy<3.8.0,>=3.7.2->en-core-web-sm==3.7.1) (3.1.4)\n",
            "Requirement already satisfied: setuptools in /usr/local/lib/python3.10/dist-packages (from spacy<3.8.0,>=3.7.2->en-core-web-sm==3.7.1) (71.0.4)\n",
            "Requirement already satisfied: packaging>=20.0 in /usr/local/lib/python3.10/dist-packages (from spacy<3.8.0,>=3.7.2->en-core-web-sm==3.7.1) (24.1)\n",
            "Requirement already satisfied: langcodes<4.0.0,>=3.2.0 in /usr/local/lib/python3.10/dist-packages (from spacy<3.8.0,>=3.7.2->en-core-web-sm==3.7.1) (3.4.0)\n",
            "Requirement already satisfied: numpy>=1.19.0 in /usr/local/lib/python3.10/dist-packages (from spacy<3.8.0,>=3.7.2->en-core-web-sm==3.7.1) (1.26.4)\n",
            "Requirement already satisfied: language-data>=1.2 in /usr/local/lib/python3.10/dist-packages (from langcodes<4.0.0,>=3.2.0->spacy<3.8.0,>=3.7.2->en-core-web-sm==3.7.1) (1.2.0)\n",
            "Requirement already satisfied: annotated-types>=0.6.0 in /usr/local/lib/python3.10/dist-packages (from pydantic!=1.8,!=1.8.1,<3.0.0,>=1.7.4->spacy<3.8.0,>=3.7.2->en-core-web-sm==3.7.1) (0.7.0)\n",
            "Requirement already satisfied: pydantic-core==2.23.3 in /usr/local/lib/python3.10/dist-packages (from pydantic!=1.8,!=1.8.1,<3.0.0,>=1.7.4->spacy<3.8.0,>=3.7.2->en-core-web-sm==3.7.1) (2.23.3)\n",
            "Requirement already satisfied: typing-extensions>=4.6.1 in /usr/local/lib/python3.10/dist-packages (from pydantic!=1.8,!=1.8.1,<3.0.0,>=1.7.4->spacy<3.8.0,>=3.7.2->en-core-web-sm==3.7.1) (4.12.2)\n",
            "Requirement already satisfied: charset-normalizer<4,>=2 in /usr/local/lib/python3.10/dist-packages (from requests<3.0.0,>=2.13.0->spacy<3.8.0,>=3.7.2->en-core-web-sm==3.7.1) (3.3.2)\n",
            "Requirement already satisfied: idna<4,>=2.5 in /usr/local/lib/python3.10/dist-packages (from requests<3.0.0,>=2.13.0->spacy<3.8.0,>=3.7.2->en-core-web-sm==3.7.1) (3.8)\n",
            "Requirement already satisfied: urllib3<3,>=1.21.1 in /usr/local/lib/python3.10/dist-packages (from requests<3.0.0,>=2.13.0->spacy<3.8.0,>=3.7.2->en-core-web-sm==3.7.1) (2.0.7)\n",
            "Requirement already satisfied: certifi>=2017.4.17 in /usr/local/lib/python3.10/dist-packages (from requests<3.0.0,>=2.13.0->spacy<3.8.0,>=3.7.2->en-core-web-sm==3.7.1) (2024.8.30)\n",
            "Requirement already satisfied: blis<0.8.0,>=0.7.8 in /usr/local/lib/python3.10/dist-packages (from thinc<8.3.0,>=8.2.2->spacy<3.8.0,>=3.7.2->en-core-web-sm==3.7.1) (0.7.11)\n",
            "Requirement already satisfied: confection<1.0.0,>=0.0.1 in /usr/local/lib/python3.10/dist-packages (from thinc<8.3.0,>=8.2.2->spacy<3.8.0,>=3.7.2->en-core-web-sm==3.7.1) (0.1.5)\n",
            "Requirement already satisfied: click>=8.0.0 in /usr/local/lib/python3.10/dist-packages (from typer<1.0.0,>=0.3.0->spacy<3.8.0,>=3.7.2->en-core-web-sm==3.7.1) (8.1.7)\n",
            "Requirement already satisfied: shellingham>=1.3.0 in /usr/local/lib/python3.10/dist-packages (from typer<1.0.0,>=0.3.0->spacy<3.8.0,>=3.7.2->en-core-web-sm==3.7.1) (1.5.4)\n",
            "Requirement already satisfied: rich>=10.11.0 in /usr/local/lib/python3.10/dist-packages (from typer<1.0.0,>=0.3.0->spacy<3.8.0,>=3.7.2->en-core-web-sm==3.7.1) (13.8.1)\n",
            "Requirement already satisfied: cloudpathlib<1.0.0,>=0.7.0 in /usr/local/lib/python3.10/dist-packages (from weasel<0.5.0,>=0.1.0->spacy<3.8.0,>=3.7.2->en-core-web-sm==3.7.1) (0.19.0)\n",
            "Requirement already satisfied: smart-open<8.0.0,>=5.2.1 in /usr/local/lib/python3.10/dist-packages (from weasel<0.5.0,>=0.1.0->spacy<3.8.0,>=3.7.2->en-core-web-sm==3.7.1) (7.0.4)\n",
            "Requirement already satisfied: MarkupSafe>=2.0 in /usr/local/lib/python3.10/dist-packages (from jinja2->spacy<3.8.0,>=3.7.2->en-core-web-sm==3.7.1) (2.1.5)\n",
            "Requirement already satisfied: marisa-trie>=0.7.7 in /usr/local/lib/python3.10/dist-packages (from language-data>=1.2->langcodes<4.0.0,>=3.2.0->spacy<3.8.0,>=3.7.2->en-core-web-sm==3.7.1) (1.2.0)\n",
            "Requirement already satisfied: markdown-it-py>=2.2.0 in /usr/local/lib/python3.10/dist-packages (from rich>=10.11.0->typer<1.0.0,>=0.3.0->spacy<3.8.0,>=3.7.2->en-core-web-sm==3.7.1) (3.0.0)\n",
            "Requirement already satisfied: pygments<3.0.0,>=2.13.0 in /usr/local/lib/python3.10/dist-packages (from rich>=10.11.0->typer<1.0.0,>=0.3.0->spacy<3.8.0,>=3.7.2->en-core-web-sm==3.7.1) (2.16.1)\n",
            "Requirement already satisfied: wrapt in /usr/local/lib/python3.10/dist-packages (from smart-open<8.0.0,>=5.2.1->weasel<0.5.0,>=0.1.0->spacy<3.8.0,>=3.7.2->en-core-web-sm==3.7.1) (1.16.0)\n",
            "Requirement already satisfied: mdurl~=0.1 in /usr/local/lib/python3.10/dist-packages (from markdown-it-py>=2.2.0->rich>=10.11.0->typer<1.0.0,>=0.3.0->spacy<3.8.0,>=3.7.2->en-core-web-sm==3.7.1) (0.1.2)\n",
            "\u001b[38;5;2m✔ Download and installation successful\u001b[0m\n",
            "You can now load the package via spacy.load('en_core_web_sm')\n",
            "\u001b[38;5;3m⚠ Restart to reload dependencies\u001b[0m\n",
            "If you are in a Jupyter or Colab notebook, you may need to restart Python in\n",
            "order to load all the package's dependencies. You can do this by selecting the\n",
            "'Restart kernel' or 'Restart runtime' option.\n"
          ]
        }
      ]
    },
    {
      "cell_type": "markdown",
      "source": [
        "# Create Knowledge Graph\n"
      ],
      "metadata": {
        "id": "jYakGmcjjPdu"
      }
    },
    {
      "cell_type": "code",
      "source": [
        "import spacy\n",
        "import networkx as nx\n"
      ],
      "metadata": {
        "id": "vXuvtjEoCm1V"
      },
      "execution_count": 9,
      "outputs": []
    },
    {
      "cell_type": "code",
      "source": [
        "# Load spaCy model\n",
        "nlp = spacy.load(\"en_core_web_sm\")\n"
      ],
      "metadata": {
        "id": "9FitwrhLCpKh"
      },
      "execution_count": 10,
      "outputs": []
    },
    {
      "cell_type": "code",
      "source": [
        "\n",
        "# Create an empty knowledge graph\n",
        "G = nx.Graph()\n"
      ],
      "metadata": {
        "id": "BkURqV60CqyD"
      },
      "execution_count": 11,
      "outputs": []
    },
    {
      "cell_type": "code",
      "source": [
        "\n",
        "# Function to extract named entities from text\n",
        "def extract_entities(text):\n",
        "    doc = nlp(text)\n",
        "    return [(ent.text, ent.label_) for ent in doc.ents]\n",
        ""
      ],
      "metadata": {
        "id": "qx0jhfgJCtPH"
      },
      "execution_count": 12,
      "outputs": []
    },
    {
      "cell_type": "code",
      "source": [
        "\n",
        "# Build the knowledge graph by adding entity relationships\n",
        "for i, row in cleaned_corpus_df.iterrows():\n",
        "    entities = extract_entities(row['body'])\n",
        "    for j in range(len(entities) - 1):\n",
        "        entity1, entity2 = entities[j][0], entities[j + 1][0]\n",
        "        G.add_edge(entity1, entity2, document=row['uuid'])  # Use document UUID as edge data\n"
      ],
      "metadata": {
        "id": "QsyVXHR6BM5y"
      },
      "execution_count": 13,
      "outputs": []
    },
    {
      "cell_type": "code",
      "source": [],
      "metadata": {
        "id": "gL8pFc0AjsIk"
      },
      "execution_count": null,
      "outputs": []
    },
    {
      "cell_type": "markdown",
      "source": [
        "# RAG Retrieval"
      ],
      "metadata": {
        "id": "GBxRtyVMjspl"
      }
    },
    {
      "cell_type": "code",
      "source": [
        "cleaned_queries_df.iloc[0][\"query\"]"
      ],
      "metadata": {
        "colab": {
          "base_uri": "https://localhost:8080/",
          "height": 53
        },
        "id": "ieQPm6v-EWAi",
        "outputId": "852dfbec-c39b-4963-906a-41ae413435ef"
      },
      "execution_count": 14,
      "outputs": [
        {
          "output_type": "execute_result",
          "data": {
            "text/plain": [
              "\"between the sky sports report on manchester united's performance published on october 28, 2023, and the sporting news report on manchester united's status in european competitions published on december 12, 2023, has the narrative regarding manchester united's success in european competitions changed?\""
            ],
            "application/vnd.google.colaboratory.intrinsic+json": {
              "type": "string"
            }
          },
          "metadata": {},
          "execution_count": 14
        }
      ]
    },
    {
      "cell_type": "code",
      "source": [
        "from ragatouille import RAGPretrainedModel\n",
        "\n",
        "# Load the model from the previously created index\n",
        "RAG = RAGPretrainedModel.from_index(index_path)\n",
        "\n",
        "# Query\n",
        "query = cleaned_queries_df.iloc[0][\"query\"]\n",
        "\n",
        "# Retrieve results using RAGatouille without knowledge graph\n",
        "results_no_kg = RAG.search(query)\n",
        "\n",
        "# Display the results\n",
        "for result in results_no_kg:\n",
        "    print(f\"Document: {result['content']}, Score: {result['score']}, Rank: {result['rank']}\")\n"
      ],
      "metadata": {
        "colab": {
          "base_uri": "https://localhost:8080/"
        },
        "id": "KQNhKXUmCumo",
        "outputId": "5957a1e2-53dd-4fb9-cc11-eeed34f959c2"
      },
      "execution_count": 15,
      "outputs": [
        {
          "output_type": "stream",
          "name": "stderr",
          "text": [
            "/usr/local/lib/python3.10/dist-packages/transformers/tokenization_utils_base.py:1601: FutureWarning: `clean_up_tokenization_spaces` was not set. It will be set to `True` by default. This behavior will be depracted in transformers v4.45, and will be then set to `False` by default. For more details check this issue: https://github.com/huggingface/transformers/issues/31884\n",
            "  warnings.warn(\n",
            "/usr/local/lib/python3.10/dist-packages/colbert/utils/amp.py:12: FutureWarning: `torch.cuda.amp.GradScaler(args...)` is deprecated. Please use `torch.amp.GradScaler('cuda', args...)` instead.\n",
            "  self.scaler = torch.cuda.amp.GradScaler()\n"
          ]
        },
        {
          "output_type": "stream",
          "name": "stdout",
          "text": [
            "Loading searcher for index my_custom_index for the first time... This may take a few seconds\n",
            "[Sep 16, 01:55:53] #> Loading codec...\n",
            "[Sep 16, 01:55:53] #> Loading IVF...\n",
            "[Sep 16, 01:55:53] #> Loading doclens...\n"
          ]
        },
        {
          "output_type": "stream",
          "name": "stderr",
          "text": [
            "/usr/local/lib/python3.10/dist-packages/colbert/indexing/codecs/residual.py:141: FutureWarning: You are using `torch.load` with `weights_only=False` (the current default value), which uses the default pickle module implicitly. It is possible to construct malicious pickle data which will execute arbitrary code during unpickling (See https://github.com/pytorch/pytorch/blob/main/SECURITY.md#untrusted-models for more details). In a future release, the default value for `weights_only` will be flipped to `True`. This limits the functions that could be executed during unpickling. Arbitrary objects will no longer be allowed to be loaded via this mode unless they are explicitly allowlisted by the user via `torch.serialization.add_safe_globals`. We recommend you start setting `weights_only=True` for any use case where you don't have full control of the loaded file. Please open an issue on GitHub for any issues related to this experimental feature.\n",
            "  centroids = torch.load(centroids_path, map_location='cpu')\n",
            "/usr/local/lib/python3.10/dist-packages/colbert/indexing/codecs/residual.py:142: FutureWarning: You are using `torch.load` with `weights_only=False` (the current default value), which uses the default pickle module implicitly. It is possible to construct malicious pickle data which will execute arbitrary code during unpickling (See https://github.com/pytorch/pytorch/blob/main/SECURITY.md#untrusted-models for more details). In a future release, the default value for `weights_only` will be flipped to `True`. This limits the functions that could be executed during unpickling. Arbitrary objects will no longer be allowed to be loaded via this mode unless they are explicitly allowlisted by the user via `torch.serialization.add_safe_globals`. We recommend you start setting `weights_only=True` for any use case where you don't have full control of the loaded file. Please open an issue on GitHub for any issues related to this experimental feature.\n",
            "  avg_residual = torch.load(avgresidual_path, map_location='cpu')\n",
            "/usr/local/lib/python3.10/dist-packages/colbert/indexing/codecs/residual.py:143: FutureWarning: You are using `torch.load` with `weights_only=False` (the current default value), which uses the default pickle module implicitly. It is possible to construct malicious pickle data which will execute arbitrary code during unpickling (See https://github.com/pytorch/pytorch/blob/main/SECURITY.md#untrusted-models for more details). In a future release, the default value for `weights_only` will be flipped to `True`. This limits the functions that could be executed during unpickling. Arbitrary objects will no longer be allowed to be loaded via this mode unless they are explicitly allowlisted by the user via `torch.serialization.add_safe_globals`. We recommend you start setting `weights_only=True` for any use case where you don't have full control of the loaded file. Please open an issue on GitHub for any issues related to this experimental feature.\n",
            "  bucket_cutoffs, bucket_weights = torch.load(buckets_path, map_location='cpu')\n",
            "/usr/local/lib/python3.10/dist-packages/colbert/search/index_loader.py:33: FutureWarning: You are using `torch.load` with `weights_only=False` (the current default value), which uses the default pickle module implicitly. It is possible to construct malicious pickle data which will execute arbitrary code during unpickling (See https://github.com/pytorch/pytorch/blob/main/SECURITY.md#untrusted-models for more details). In a future release, the default value for `weights_only` will be flipped to `True`. This limits the functions that could be executed during unpickling. Arbitrary objects will no longer be allowed to be loaded via this mode unless they are explicitly allowlisted by the user via `torch.serialization.add_safe_globals`. We recommend you start setting `weights_only=True` for any use case where you don't have full control of the loaded file. Please open an issue on GitHub for any issues related to this experimental feature.\n",
            "  ivf, ivf_lengths = torch.load(os.path.join(self.index_path, \"ivf.pid.pt\"), map_location='cpu')\n",
            "100%|██████████| 1/1 [00:00<00:00, 1417.95it/s]"
          ]
        },
        {
          "output_type": "stream",
          "name": "stdout",
          "text": [
            "[Sep 16, 01:55:53] #> Loading codes and residuals...\n"
          ]
        },
        {
          "output_type": "stream",
          "name": "stderr",
          "text": [
            "\n",
            "  0%|          | 0/1 [00:00<?, ?it/s]/usr/local/lib/python3.10/dist-packages/colbert/indexing/codecs/residual_embeddings.py:86: FutureWarning: You are using `torch.load` with `weights_only=False` (the current default value), which uses the default pickle module implicitly. It is possible to construct malicious pickle data which will execute arbitrary code during unpickling (See https://github.com/pytorch/pytorch/blob/main/SECURITY.md#untrusted-models for more details). In a future release, the default value for `weights_only` will be flipped to `True`. This limits the functions that could be executed during unpickling. Arbitrary objects will no longer be allowed to be loaded via this mode unless they are explicitly allowlisted by the user via `torch.serialization.add_safe_globals`. We recommend you start setting `weights_only=True` for any use case where you don't have full control of the loaded file. Please open an issue on GitHub for any issues related to this experimental feature.\n",
            "  return torch.load(codes_path, map_location='cpu')\n",
            "/usr/local/lib/python3.10/dist-packages/colbert/indexing/codecs/residual_embeddings.py:93: FutureWarning: You are using `torch.load` with `weights_only=False` (the current default value), which uses the default pickle module implicitly. It is possible to construct malicious pickle data which will execute arbitrary code during unpickling (See https://github.com/pytorch/pytorch/blob/main/SECURITY.md#untrusted-models for more details). In a future release, the default value for `weights_only` will be flipped to `True`. This limits the functions that could be executed during unpickling. Arbitrary objects will no longer be allowed to be loaded via this mode unless they are explicitly allowlisted by the user via `torch.serialization.add_safe_globals`. We recommend you start setting `weights_only=True` for any use case where you don't have full control of the loaded file. Please open an issue on GitHub for any issues related to this experimental feature.\n",
            "  return torch.load(residuals_path, map_location='cpu')\n",
            "100%|██████████| 1/1 [00:00<00:00,  8.27it/s]"
          ]
        },
        {
          "output_type": "stream",
          "name": "stdout",
          "text": [
            "Searcher loaded!\n",
            "\n",
            "#> QueryTokenizer.tensorize(batch_text[0], batch_background[0], bsize) ==\n",
            "#> Input: . between the sky sports report on manchester united's performance published on october 28, 2023, and the sporting news report on manchester united's status in european competitions published on december 12, 2023, has the narrative regarding manchester united's success in european competitions changed?, \t\t True, \t\t None\n",
            "#> Output IDs: torch.Size([56]), tensor([  101,     1,  2090,  1996,  3712,  2998,  3189,  2006,  5087,  2142,\n",
            "         1005,  1055,  2836,  2405,  2006,  2255,  2654,  1010, 16798,  2509,\n",
            "         1010,  1998,  1996,  7419,  2739,  3189,  2006,  5087,  2142,  1005,\n",
            "         1055,  3570,  1999,  2647,  6479,  2405,  2006,  2285,  2260,  1010,\n",
            "        16798,  2509,  1010,  2038,  1996,  7984,  4953,  5087,  2142,  1005,\n",
            "         1055,  3112,  1999,  2647,  6479,   102], device='cuda:0')\n",
            "#> Output Mask: torch.Size([56]), tensor([1, 1, 1, 1, 1, 1, 1, 1, 1, 1, 1, 1, 1, 1, 1, 1, 1, 1, 1, 1, 1, 1, 1, 1,\n",
            "        1, 1, 1, 1, 1, 1, 1, 1, 1, 1, 1, 1, 1, 1, 1, 1, 1, 1, 1, 1, 1, 1, 1, 1,\n",
            "        1, 1, 1, 1, 1, 1, 1, 1], device='cuda:0')\n",
            "\n"
          ]
        },
        {
          "output_type": "stream",
          "name": "stderr",
          "text": [
            "\n",
            "/usr/local/lib/python3.10/dist-packages/colbert/utils/amp.py:15: FutureWarning: `torch.cuda.amp.autocast(args...)` is deprecated. Please use `torch.amp.autocast('cuda', args...)` instead.\n",
            "  return torch.cuda.amp.autocast() if self.activated else NullContextManager()\n"
          ]
        },
        {
          "output_type": "stream",
          "name": "stdout",
          "text": [
            "Document: manchester united are currently 11 premier league games unbeaten against chelsea since november 2017. however, the fact that seven of those matches ended all square has helped to make the game the most drawn fixture in premier league history.\n",
            "\n",
            "some 19 of those draws have featured goals for both teams. a 1-1 draw in the fixture is the most common exact scoreline in premier league history, occurring 14 times.\n",
            "\n",
            "more: is raphael varane leaving man united?\n",
            "\n",
            "last 10 matches between chelsea and man city\n",
            "\n",
            "competition date location result premier league may. 25, 2023 old trafford man united 4-1 chelsea premier league oct. 22, 2022 stamford bridge chelsea 1-1 man united premier league apr. 28, 2022 old trafford man united 1-1 chelsea premier league nov. 28, 2021 stamford bridge chelsea 1-1 man united premier league feb. 28, 2021 stamford bridge chelsea 0-0 man united premier league oct. 24, 2020 old trafford man united 0-0 chelsea fa cup jul., Score: 34.9375, Rank: 1\n",
            "Document: all matches will took place in the week beginning december 18, 2023.\n",
            "\n",
            "date match highlights tues, dec. 19 everton 1-1 fulham\n",
            "\n",
            "fulham advance 7-6 on penalties highlights tues, dec. 19 chelsea 1-1 newcastle united\n",
            "\n",
            "chelsea advance 4-2 on penalties highlights tues, dec. 19 port vale 0-3 middlesbrough highlights weds, dec. 20 liverpool 5-1 west ham highlights\n",
            "\n",
            "carabao cup fourth round results\n",
            "\n",
            "the fourth round of the competition trimmed the competition down to 16 teams for the next phase.\n",
            "\n",
            "efl league two side mansfield town were the lowest-ranked team left in the competition and they were drawn against league one team port vale with defending champions manchester united eliminated by newcastle united.\n",
            "\n",
            "date match highlights tues, oct. 31 mansfield town (l2) 0-1 port vale (l1) highlights weds, nov. 1 ipswich town (ch) 1-3 fulham (pl) highlights weds, nov. 1 man united (pl) 0-3 newcastle united (pl) highlights weds, nov., Score: 33.5625, Rank: 2\n",
            "Document: the 64th edition of the league cup (also known as the carabao cup after its sponsor) got underway on august 8 and we're now at the semifinal strage.\n",
            "\n",
            "after the community shield won by arsenal on august 6, the league cup will be the first domestic trophy of the 2023/24 season awarded with the final to take place on sunday, february 25, 2024 at wembley stadium in london.\n",
            "\n",
            "manchester united are the holders of the trophy after defeating newcastle united in the 2023 final. last season's finalists met in round four after being draw against one another, with the magpies gaining revenge.\n",
            "\n",
            "in addition to silverware, the winner of the efl cup earns a place in the 2024/25 uefa conference league playoffs with a chance to qualify for the group stage of that european cup competition.\n",
            "\n",
            "how does the carabao cup work in 2023/24?\n",
            "\n",
            "the efl cup (carabao cup for sponsorship reasons) features all 92 participating clubs from the top four tiers of english football: premier league (20 clubs), championship (24 clubs), league one (24), and league two (24)., Score: 33.5625, Rank: 3\n",
            "Document: there was little hope of winning that match considering their form. the fears came true and they lost 3-0 in the manchester derby. they had some hope in their next match in the efl cup round of 16 match against newcastle united.\n",
            "\n",
            "the boys in blue 🤩 pic.twitter.com/0awndmkxtt — manchester city (@mancity) november 3, 2023\n",
            "\n",
            "especially since they defeated the magpies last term in the final of the efl cup. however, the reigning carabao cup champions could not defend their title any longer. they lost by another 3-0 margin to newcastle united. with 5 wins and 5 defeats in the domestic league, they are now sitting in 8th position in the table. it still seems that coach erik ten hag has the backing of the management. however, he will still have to pull up his team from the doom as soon as possible.\n",
            "\n",
            "fulham are in a worse situation than the red devils. after a mixed set of results with 3 wins, 3 draws, and 4 defeats, they are sitting in 14th position in the league table., Score: 32.6875, Rank: 4\n",
            "Document: manchester united would love a repeat of last season's 4-1 home win over chelsea when the blues visit old trafford this wednesday.\n",
            "\n",
            "the pressure on united has grown again following their lacklustre 1-0 defeat at newcastle on saturday and another setback against a chelsea side – who beat brighton & hove albion 3-2 the following day – would worsen the misery around old trafford.\n",
            "\n",
            "two heavyweights of world football, united and chelsea are two of only seven teams to have won the modern premier league and are only behind liverpool when it comes to english success with european trophies.\n",
            "\n",
            "chelsea's recent record against united is poor, but they have won the premier league twice since united last did so in the 2012/13 season and could exploit the poor form of ten hag's side here.\n",
            "\n",
            "the sporting news looks at a rivalry that stretches back decades and has been sharply in focus over recent years., Score: 32.59375, Rank: 5\n",
            "Document: \"i had to set some standards\"\n",
            "\n",
            "\n",
            "\n",
            "erik ten hag claims there was not a good culture among staff and players before he joined man united 😬pic.twitter.com/djwe42mdxy — sky sports premier league (@skysportspl) december 5, 2023\n",
            "\n",
            "man united vs chelsea lineups\n",
            "\n",
            "midfielder casemiro and defender lisandro martinez remain out for manchester united, while christian eriksen may not return in 2023.\n",
            "\n",
            "mason mount missed united's defeat at newcastle united on saturday and jonny evans has not played for almost a month because of a thigh issue. amad diallo and tyrell malacia have long-term injuries.\n",
            "\n",
            "man united lineup (4-2-3-1, right to left): onana (gk) — dalot, maguire, lindelof, shaw — amrabat, mctominay — antony, bruno fernandes, garnacho — hojlund., Score: 32.40625, Rank: 6\n",
            "Document: 8 fc copenhagen 4-3 manchester united nov. 29 galatasaray 3-3 manchester united nov. 29 bayern munich 0-0 fc copenhagen dec. 12 fc copenhagen 1-0 galatasaray dec. 12 manchester united 0-1 bayern munich\n",
            "\n",
            "group b\n",
            "\n",
            "team gp w d l gd p arsenal (q) 6 4 1 1 +12 13 psv (q) 6 2 3 1 -2 9 lens 6 2 2 2 -5 8 sevilla 6 0 2 4 -5 2\n",
            "\n",
            "arsenal finished top of the pile and their 6-0 thrashing of lens on matchday five confirmed them as winners of group b.\n",
            "\n",
            "psv's comeback win over sevilla meant have also qualified thanks to lens' defeat. the ligue 1 side beat their laliga opponents 2-1 to make sure of a europa league berth as psv and arsenal played out an entertaining 1-1 draw.\n",
            "\n",
            "results\n",
            "\n",
            "date fixture/result sept. 20 sevilla 1-1 lens sept., Score: 32.1875, Rank: 7\n",
            "Document: galatasaray knew that if they beat copenhagen at parken they would go through but lukas lerager scored the only goal in a 1-0 win for the hosts\n",
            "\n",
            "manchester united are out of europe altogether after a limp display against bayern at old trafford, where kingsley coman sealed a 1-0 win for thomas tuchel's side.\n",
            "\n",
            "results\n",
            "\n",
            "date fixture/result sept. 20 galatasaray 2-2 fc copenhagen sept. 20 bayern munich 4-3 manchester united oct. 3 manchester united 2-3 galatasaray oct. 3 fc copenhagen 1-2 bayern munich oct. 24 galatasaray 1-3 bayern munich oct. 24 manchester united 1-0 fc copenhagen nov. 8 bayern munich 2-1 galatasaray nov. 8 fc copenhagen 4-3 manchester united nov. 29 galatasaray 3-3 manchester united nov. 29 bayern munich 0-0 fc copenhagen dec. 12 fc copenhagen 1-0 galatasaray dec., Score: 31.796875, Rank: 8\n",
            "Document: timeline of the takeover saga\n",
            "\n",
            "it was in november 2022 as qatar became the centre of the football universe during the controversial 2022 world cup that the glazers revealed they were looking to cash in all or at least some of their shares.\n",
            "\n",
            "the bombshell announcement was seen by the majority of manchester united fans as the beginning of the end of the divisive and destructive regime that began with a now-outlawed leveraged buyout in 2005 and saddled the club with debts that at one stage soared to as high as £1bn.\n",
            "\n",
            "brothers joel and avram, the two most hands-on of the six glazer siblings who have overall control of united, had instructed the new york-based raine banking group to handle the bidding process.\n",
            "\n",
            "this was a move mainly influenced by the fact raine had managed to broker a deal with todd boehly to commit to invest £4.5bn to take control of chelsea, giving the glazers grand ideas they could rake in as much as double for a global sporting institution like united., Score: 31.734375, Rank: 9\n",
            "Document: the game has provided the fa cup final on three occasions, chelsea winning the most recent of those through eden hazard's penalty in 2018.\n",
            "\n",
            "hazard scored the only goal of the game to repeat the scoreline when chelsea beat united in the final after extra time in 2007, avenging a 4-0 defeat to sir alex ferguson's side in 1994.\n",
            "\n",
            "arguably the most memorable game between the pair is the 2008 uefa champions league final, when united goalkeeper edwin van der sar saved nicholas anelka's penalty to give his side victory following a 1-1 draw after extra time.\n",
            "\n",
            "man united vs chelsea all-time results (all competitions)\n",
            "\n",
            "games man united\n",
            "\n",
            "wins chelsea\n",
            "\n",
            "wins draws 193 82 55 56\n",
            "\n",
            "man united vs chelsea recent results\n",
            "\n",
            "ahead of their visit to old trafford in december 2023, chelsea’s most recent premier league away win against manchester united was a 1-0 win in may 2013.\n",
            "\n",
            "at that point, they had won more premier league games at old trafford (six) than any other side, but they proceeded to draw six and lose four of their next 10 trips to m16., Score: 31.671875, Rank: 10\n"
          ]
        }
      ]
    },
    {
      "cell_type": "code",
      "source": [],
      "metadata": {
        "id": "ZEy_jVywFba_"
      },
      "execution_count": 15,
      "outputs": []
    },
    {
      "cell_type": "code",
      "source": [
        "# Function to enhance retrieval using the knowledge graph\n",
        "def enhance_with_knowledge_graph(query, results):\n",
        "    query_entities = extract_entities(query)\n",
        "\n",
        "    # Find related documents from the knowledge graph\n",
        "    related_docs = set()\n",
        "    for entity, _ in query_entities:\n",
        "        if entity in G:\n",
        "            neighbors = list(G.neighbors(entity))\n",
        "            for neighbor in neighbors:\n",
        "                related_docs.update([d for u, v, d in G.edges(neighbor, data='document')])\n",
        "\n",
        "    # Filter or re-rank the RAGatouille results based on the knowledge graph\n",
        "    enhanced_results = []\n",
        "    for result in results:\n",
        "        doc_id = result.get('document_id')\n",
        "        if doc_id in related_docs:\n",
        "            enhanced_results.append(result)\n",
        "\n",
        "    return enhanced_results\n",
        ""
      ],
      "metadata": {
        "id": "GxWGt9YGGi-u"
      },
      "execution_count": 16,
      "outputs": []
    },
    {
      "cell_type": "code",
      "source": [
        "\n",
        "# Retrieve documents without knowledge graph\n",
        "results_no_kg = RAG.search(query)\n"
      ],
      "metadata": {
        "id": "OYNJgoZrGkxg"
      },
      "execution_count": 17,
      "outputs": []
    },
    {
      "cell_type": "code",
      "source": [
        "# Enhance retrieval using the knowledge graph\n",
        "results_with_kg = enhance_with_knowledge_graph(query, results_no_kg)\n"
      ],
      "metadata": {
        "id": "p3xQFt9wGnBq"
      },
      "execution_count": 18,
      "outputs": []
    },
    {
      "cell_type": "code",
      "source": [
        "\n",
        "# Display the enhanced results\n",
        "for result in results_with_kg:\n",
        "    print(f\"Document: {result['content']}, Score: {result['score']}, Rank: {result['rank']}\")\n"
      ],
      "metadata": {
        "colab": {
          "base_uri": "https://localhost:8080/"
        },
        "id": "KZj0LmKnGhOX",
        "outputId": "d4e6f88c-7f7a-47a9-d5e0-b3b4bb171d5b"
      },
      "execution_count": 19,
      "outputs": [
        {
          "output_type": "stream",
          "name": "stdout",
          "text": [
            "Document: manchester united are currently 11 premier league games unbeaten against chelsea since november 2017. however, the fact that seven of those matches ended all square has helped to make the game the most drawn fixture in premier league history.\n",
            "\n",
            "some 19 of those draws have featured goals for both teams. a 1-1 draw in the fixture is the most common exact scoreline in premier league history, occurring 14 times.\n",
            "\n",
            "more: is raphael varane leaving man united?\n",
            "\n",
            "last 10 matches between chelsea and man city\n",
            "\n",
            "competition date location result premier league may. 25, 2023 old trafford man united 4-1 chelsea premier league oct. 22, 2022 stamford bridge chelsea 1-1 man united premier league apr. 28, 2022 old trafford man united 1-1 chelsea premier league nov. 28, 2021 stamford bridge chelsea 1-1 man united premier league feb. 28, 2021 stamford bridge chelsea 0-0 man united premier league oct. 24, 2020 old trafford man united 0-0 chelsea fa cup jul., Score: 34.9375, Rank: 1\n",
            "Document: all matches will took place in the week beginning december 18, 2023.\n",
            "\n",
            "date match highlights tues, dec. 19 everton 1-1 fulham\n",
            "\n",
            "fulham advance 7-6 on penalties highlights tues, dec. 19 chelsea 1-1 newcastle united\n",
            "\n",
            "chelsea advance 4-2 on penalties highlights tues, dec. 19 port vale 0-3 middlesbrough highlights weds, dec. 20 liverpool 5-1 west ham highlights\n",
            "\n",
            "carabao cup fourth round results\n",
            "\n",
            "the fourth round of the competition trimmed the competition down to 16 teams for the next phase.\n",
            "\n",
            "efl league two side mansfield town were the lowest-ranked team left in the competition and they were drawn against league one team port vale with defending champions manchester united eliminated by newcastle united.\n",
            "\n",
            "date match highlights tues, oct. 31 mansfield town (l2) 0-1 port vale (l1) highlights weds, nov. 1 ipswich town (ch) 1-3 fulham (pl) highlights weds, nov. 1 man united (pl) 0-3 newcastle united (pl) highlights weds, nov., Score: 33.5625, Rank: 2\n",
            "Document: the 64th edition of the league cup (also known as the carabao cup after its sponsor) got underway on august 8 and we're now at the semifinal strage.\n",
            "\n",
            "after the community shield won by arsenal on august 6, the league cup will be the first domestic trophy of the 2023/24 season awarded with the final to take place on sunday, february 25, 2024 at wembley stadium in london.\n",
            "\n",
            "manchester united are the holders of the trophy after defeating newcastle united in the 2023 final. last season's finalists met in round four after being draw against one another, with the magpies gaining revenge.\n",
            "\n",
            "in addition to silverware, the winner of the efl cup earns a place in the 2024/25 uefa conference league playoffs with a chance to qualify for the group stage of that european cup competition.\n",
            "\n",
            "how does the carabao cup work in 2023/24?\n",
            "\n",
            "the efl cup (carabao cup for sponsorship reasons) features all 92 participating clubs from the top four tiers of english football: premier league (20 clubs), championship (24 clubs), league one (24), and league two (24)., Score: 33.5625, Rank: 3\n",
            "Document: there was little hope of winning that match considering their form. the fears came true and they lost 3-0 in the manchester derby. they had some hope in their next match in the efl cup round of 16 match against newcastle united.\n",
            "\n",
            "the boys in blue 🤩 pic.twitter.com/0awndmkxtt — manchester city (@mancity) november 3, 2023\n",
            "\n",
            "especially since they defeated the magpies last term in the final of the efl cup. however, the reigning carabao cup champions could not defend their title any longer. they lost by another 3-0 margin to newcastle united. with 5 wins and 5 defeats in the domestic league, they are now sitting in 8th position in the table. it still seems that coach erik ten hag has the backing of the management. however, he will still have to pull up his team from the doom as soon as possible.\n",
            "\n",
            "fulham are in a worse situation than the red devils. after a mixed set of results with 3 wins, 3 draws, and 4 defeats, they are sitting in 14th position in the league table., Score: 32.6875, Rank: 4\n",
            "Document: manchester united would love a repeat of last season's 4-1 home win over chelsea when the blues visit old trafford this wednesday.\n",
            "\n",
            "the pressure on united has grown again following their lacklustre 1-0 defeat at newcastle on saturday and another setback against a chelsea side – who beat brighton & hove albion 3-2 the following day – would worsen the misery around old trafford.\n",
            "\n",
            "two heavyweights of world football, united and chelsea are two of only seven teams to have won the modern premier league and are only behind liverpool when it comes to english success with european trophies.\n",
            "\n",
            "chelsea's recent record against united is poor, but they have won the premier league twice since united last did so in the 2012/13 season and could exploit the poor form of ten hag's side here.\n",
            "\n",
            "the sporting news looks at a rivalry that stretches back decades and has been sharply in focus over recent years., Score: 32.59375, Rank: 5\n",
            "Document: \"i had to set some standards\"\n",
            "\n",
            "\n",
            "\n",
            "erik ten hag claims there was not a good culture among staff and players before he joined man united 😬pic.twitter.com/djwe42mdxy — sky sports premier league (@skysportspl) december 5, 2023\n",
            "\n",
            "man united vs chelsea lineups\n",
            "\n",
            "midfielder casemiro and defender lisandro martinez remain out for manchester united, while christian eriksen may not return in 2023.\n",
            "\n",
            "mason mount missed united's defeat at newcastle united on saturday and jonny evans has not played for almost a month because of a thigh issue. amad diallo and tyrell malacia have long-term injuries.\n",
            "\n",
            "man united lineup (4-2-3-1, right to left): onana (gk) — dalot, maguire, lindelof, shaw — amrabat, mctominay — antony, bruno fernandes, garnacho — hojlund., Score: 32.40625, Rank: 6\n",
            "Document: 8 fc copenhagen 4-3 manchester united nov. 29 galatasaray 3-3 manchester united nov. 29 bayern munich 0-0 fc copenhagen dec. 12 fc copenhagen 1-0 galatasaray dec. 12 manchester united 0-1 bayern munich\n",
            "\n",
            "group b\n",
            "\n",
            "team gp w d l gd p arsenal (q) 6 4 1 1 +12 13 psv (q) 6 2 3 1 -2 9 lens 6 2 2 2 -5 8 sevilla 6 0 2 4 -5 2\n",
            "\n",
            "arsenal finished top of the pile and their 6-0 thrashing of lens on matchday five confirmed them as winners of group b.\n",
            "\n",
            "psv's comeback win over sevilla meant have also qualified thanks to lens' defeat. the ligue 1 side beat their laliga opponents 2-1 to make sure of a europa league berth as psv and arsenal played out an entertaining 1-1 draw.\n",
            "\n",
            "results\n",
            "\n",
            "date fixture/result sept. 20 sevilla 1-1 lens sept., Score: 32.1875, Rank: 7\n",
            "Document: galatasaray knew that if they beat copenhagen at parken they would go through but lukas lerager scored the only goal in a 1-0 win for the hosts\n",
            "\n",
            "manchester united are out of europe altogether after a limp display against bayern at old trafford, where kingsley coman sealed a 1-0 win for thomas tuchel's side.\n",
            "\n",
            "results\n",
            "\n",
            "date fixture/result sept. 20 galatasaray 2-2 fc copenhagen sept. 20 bayern munich 4-3 manchester united oct. 3 manchester united 2-3 galatasaray oct. 3 fc copenhagen 1-2 bayern munich oct. 24 galatasaray 1-3 bayern munich oct. 24 manchester united 1-0 fc copenhagen nov. 8 bayern munich 2-1 galatasaray nov. 8 fc copenhagen 4-3 manchester united nov. 29 galatasaray 3-3 manchester united nov. 29 bayern munich 0-0 fc copenhagen dec. 12 fc copenhagen 1-0 galatasaray dec., Score: 31.796875, Rank: 8\n",
            "Document: timeline of the takeover saga\n",
            "\n",
            "it was in november 2022 as qatar became the centre of the football universe during the controversial 2022 world cup that the glazers revealed they were looking to cash in all or at least some of their shares.\n",
            "\n",
            "the bombshell announcement was seen by the majority of manchester united fans as the beginning of the end of the divisive and destructive regime that began with a now-outlawed leveraged buyout in 2005 and saddled the club with debts that at one stage soared to as high as £1bn.\n",
            "\n",
            "brothers joel and avram, the two most hands-on of the six glazer siblings who have overall control of united, had instructed the new york-based raine banking group to handle the bidding process.\n",
            "\n",
            "this was a move mainly influenced by the fact raine had managed to broker a deal with todd boehly to commit to invest £4.5bn to take control of chelsea, giving the glazers grand ideas they could rake in as much as double for a global sporting institution like united., Score: 31.734375, Rank: 9\n",
            "Document: the game has provided the fa cup final on three occasions, chelsea winning the most recent of those through eden hazard's penalty in 2018.\n",
            "\n",
            "hazard scored the only goal of the game to repeat the scoreline when chelsea beat united in the final after extra time in 2007, avenging a 4-0 defeat to sir alex ferguson's side in 1994.\n",
            "\n",
            "arguably the most memorable game between the pair is the 2008 uefa champions league final, when united goalkeeper edwin van der sar saved nicholas anelka's penalty to give his side victory following a 1-1 draw after extra time.\n",
            "\n",
            "man united vs chelsea all-time results (all competitions)\n",
            "\n",
            "games man united\n",
            "\n",
            "wins chelsea\n",
            "\n",
            "wins draws 193 82 55 56\n",
            "\n",
            "man united vs chelsea recent results\n",
            "\n",
            "ahead of their visit to old trafford in december 2023, chelsea’s most recent premier league away win against manchester united was a 1-0 win in may 2013.\n",
            "\n",
            "at that point, they had won more premier league games at old trafford (six) than any other side, but they proceeded to draw six and lose four of their next 10 trips to m16., Score: 31.671875, Rank: 10\n"
          ]
        }
      ]
    },
    {
      "cell_type": "code",
      "source": [],
      "metadata": {
        "id": "wU9dwHrwGhRU"
      },
      "execution_count": 19,
      "outputs": []
    },
    {
      "cell_type": "markdown",
      "source": [
        "# Performance Comparison"
      ],
      "metadata": {
        "id": "BZUvWR9Aj1mm"
      }
    },
    {
      "cell_type": "code",
      "source": [
        "ground_truth_docs_all = cleaned_queries_df['result'].tolist()\n"
      ],
      "metadata": {
        "id": "ZNDeSLBGGxDt"
      },
      "execution_count": 20,
      "outputs": []
    },
    {
      "cell_type": "code",
      "source": [
        "all_queries = cleaned_queries_df['query'].tolist()\n",
        "\n",
        "# Store results for each query\n",
        "results_no_kg_all = []\n",
        "results_with_kg_all = []\n"
      ],
      "metadata": {
        "id": "GWaTUvxPHZg4"
      },
      "execution_count": 21,
      "outputs": []
    },
    {
      "cell_type": "code",
      "source": [
        "from sklearn.metrics import precision_score, recall_score, f1_score\n"
      ],
      "metadata": {
        "id": "vBIsRbR1G6wi"
      },
      "execution_count": 22,
      "outputs": []
    },
    {
      "cell_type": "code",
      "source": [
        "# Iterate through each query\n",
        "for query in all_queries:\n",
        "    # Retrieve results without knowledge graph\n",
        "    results_no_kg = RAG.search(query)\n",
        "    results_no_kg_all.append(results_no_kg)\n",
        "\n",
        "    # Enhance retrieval with knowledge graph\n",
        "    results_with_kg = enhance_with_knowledge_graph(query, results_no_kg)\n",
        "    results_with_kg_all.append(results_with_kg)\n",
        ""
      ],
      "metadata": {
        "id": "z8wRRINJHhXN"
      },
      "execution_count": 23,
      "outputs": []
    },
    {
      "cell_type": "code",
      "source": [
        "# Extract document IDs for each query\n",
        "retrieved_doc_ids_no_kg_all = [\n",
        "    {result['document_id'] for result in results} for results in results_no_kg_all\n",
        "]\n",
        "\n",
        "retrieved_doc_ids_with_kg_all = [\n",
        "    {result['document_id'] for result in results} for results in results_with_kg_all\n",
        "]\n"
      ],
      "metadata": {
        "id": "XIdy1g1_IcCW"
      },
      "execution_count": 24,
      "outputs": []
    },
    {
      "cell_type": "code",
      "source": [
        "# Function to evaluate precision, recall, and F1-score for each query\n",
        "def evaluate_retrieval(retrieved_docs, ground_truth_docs):\n",
        "    y_true = [1 if doc in ground_truth_docs else 0 for doc in retrieved_docs]\n",
        "    y_pred = [1] * len(retrieved_docs)  # Assume all retrieved are relevant\n",
        "\n",
        "    precision = precision_score(y_true, y_pred, average='binary', zero_division=1)\n",
        "    recall = recall_score(y_true, y_pred, average='binary')\n",
        "    f1 = f1_score(y_true, y_pred, average='binary')\n",
        "\n",
        "    return precision, recall, f1\n",
        ""
      ],
      "metadata": {
        "id": "ZxPHtMfeG9XM"
      },
      "execution_count": 25,
      "outputs": []
    },
    {
      "cell_type": "code",
      "source": [
        "# Initialize metrics for aggregation\n",
        "precision_no_kg_list = []\n",
        "recall_no_kg_list = []\n",
        "f1_no_kg_list = []\n"
      ],
      "metadata": {
        "id": "ceOFAZITI1JC"
      },
      "execution_count": 26,
      "outputs": []
    },
    {
      "cell_type": "code",
      "source": [
        "precision_with_kg_list = []\n",
        "recall_with_kg_list = []\n",
        "f1_with_kg_list = []\n"
      ],
      "metadata": {
        "id": "5tc8hzrZI3wB"
      },
      "execution_count": 27,
      "outputs": []
    },
    {
      "cell_type": "code",
      "source": [
        "# Iterate over all queries and calculate metrics\n",
        "for i in range(len(all_queries)):\n",
        "    # For retrieval without knowledge graph\n",
        "    precision_no_kg, recall_no_kg, f1_no_kg = evaluate_retrieval(retrieved_doc_ids_no_kg_all[i], ground_truth_docs_all[i])\n",
        "    precision_no_kg_list.append(precision_no_kg)\n",
        "    recall_no_kg_list.append(recall_no_kg)\n",
        "    f1_no_kg_list.append(f1_no_kg)\n",
        "\n",
        "    # For retrieval with knowledge graph\n",
        "    precision_with_kg, recall_with_kg, f1_with_kg = evaluate_retrieval(retrieved_doc_ids_with_kg_all[i], ground_truth_docs_all[i])\n",
        "    precision_with_kg_list.append(precision_with_kg)\n",
        "    recall_with_kg_list.append(recall_with_kg)\n",
        "    f1_with_kg_list.append(f1_with_kg)\n",
        ""
      ],
      "metadata": {
        "id": "jn4QxP1AG_NR"
      },
      "execution_count": null,
      "outputs": []
    },
    {
      "cell_type": "code",
      "source": [
        "import numpy as np\n",
        "from scipy.stats import gmean\n"
      ],
      "metadata": {
        "id": "qkmxVuGvHA7z"
      },
      "execution_count": 29,
      "outputs": []
    },
    {
      "cell_type": "code",
      "source": [
        "# Calculate average precision, recall, and F1-score across all queries (without KG)\n",
        "mean_precision_no_kg = np.mean(precision_no_kg_list)\n",
        "mean_recall_no_kg = np.mean(recall_no_kg_list)\n",
        "mean_f1_no_kg = np.mean(f1_no_kg_list)\n"
      ],
      "metadata": {
        "id": "ifZ3rnchG3pn"
      },
      "execution_count": 30,
      "outputs": []
    },
    {
      "cell_type": "code",
      "source": [
        "# Calculate average precision, recall, and F1-score across all queries (with KG)\n",
        "mean_precision_with_kg = np.mean(precision_with_kg_list)\n",
        "mean_recall_with_kg = np.mean(recall_with_kg_list)\n",
        "mean_f1_with_kg = np.mean(f1_with_kg_list)\n"
      ],
      "metadata": {
        "id": "9BHZvzXMJSA_"
      },
      "execution_count": 31,
      "outputs": []
    },
    {
      "cell_type": "code",
      "source": [
        "# Print the results\n",
        "print(f\"Without Knowledge Graph: Precision = {mean_precision_no_kg}, Recall = {mean_recall_no_kg}, F1 = {mean_f1_no_kg}\")\n",
        "print(f\"With Knowledge Graph: Precision = {mean_precision_with_kg}, Recall = {mean_recall_with_kg}, F1 = {mean_f1_with_kg}\")\n"
      ],
      "metadata": {
        "colab": {
          "base_uri": "https://localhost:8080/"
        },
        "id": "90EdOzvyHBpa",
        "outputId": "95e61468-7d38-48a6-bc7d-4c5895e531a8"
      },
      "execution_count": 32,
      "outputs": [
        {
          "output_type": "stream",
          "name": "stdout",
          "text": [
            "Without Knowledge Graph: Precision = 0.25463178690646504, Recall = 0.7184549356223175, F1 = 0.3562085887407776\n",
            "With Knowledge Graph: Precision = 0.5186192860549084, Recall = 0.5021459227467812, F1 = 0.2585366850602902\n"
          ]
        }
      ]
    },
    {
      "cell_type": "markdown",
      "source": [
        "# Save Index\n"
      ],
      "metadata": {
        "id": "ngcrE8GpkA27"
      }
    },
    {
      "cell_type": "code",
      "source": [
        "!zip -r my_custom_index.zip .ragatouille/colbert/indexes/my_custom_index\n"
      ],
      "metadata": {
        "colab": {
          "base_uri": "https://localhost:8080/"
        },
        "id": "3G9y-MpUOFuy",
        "outputId": "74decc84-40eb-4878-d7a8-7189565c88da"
      },
      "execution_count": 39,
      "outputs": [
        {
          "output_type": "stream",
          "name": "stdout",
          "text": [
            "  adding: .ragatouille/colbert/indexes/my_custom_index/ (stored 0%)\n",
            "  adding: .ragatouille/colbert/indexes/my_custom_index/pid_docid_map.json (deflated 91%)\n",
            "  adding: .ragatouille/colbert/indexes/my_custom_index/centroids.pt (deflated 49%)\n",
            "  adding: .ragatouille/colbert/indexes/my_custom_index/buckets.pt (deflated 54%)\n",
            "  adding: .ragatouille/colbert/indexes/my_custom_index/ivf.pid.pt (deflated 54%)\n",
            "  adding: .ragatouille/colbert/indexes/my_custom_index/metadata.json (deflated 58%)\n",
            "  adding: .ragatouille/colbert/indexes/my_custom_index/0.residuals.pt (deflated 0%)\n",
            "  adding: .ragatouille/colbert/indexes/my_custom_index/collection.json (deflated 70%)\n",
            "  adding: .ragatouille/colbert/indexes/my_custom_index/0.metadata.json (deflated 38%)\n",
            "  adding: .ragatouille/colbert/indexes/my_custom_index/avg_residual.pt (deflated 60%)\n",
            "  adding: .ragatouille/colbert/indexes/my_custom_index/0.codes.pt (deflated 64%)\n",
            "  adding: .ragatouille/colbert/indexes/my_custom_index/docid_metadata_map.json (deflated 78%)\n",
            "  adding: .ragatouille/colbert/indexes/my_custom_index/doclens.0.json (deflated 69%)\n",
            "  adding: .ragatouille/colbert/indexes/my_custom_index/plan.json (deflated 59%)\n"
          ]
        }
      ]
    },
    {
      "cell_type": "code",
      "source": [
        "from google.colab import files\n",
        "files.download(\"my_custom_index.zip\")\n"
      ],
      "metadata": {
        "colab": {
          "base_uri": "https://localhost:8080/",
          "height": 17
        },
        "id": "nPD1kb4QoUvF",
        "outputId": "e4ab84cf-be04-4154-8891-4a26946bc4e1"
      },
      "execution_count": 40,
      "outputs": [
        {
          "output_type": "display_data",
          "data": {
            "text/plain": [
              "<IPython.core.display.Javascript object>"
            ],
            "application/javascript": [
              "\n",
              "    async function download(id, filename, size) {\n",
              "      if (!google.colab.kernel.accessAllowed) {\n",
              "        return;\n",
              "      }\n",
              "      const div = document.createElement('div');\n",
              "      const label = document.createElement('label');\n",
              "      label.textContent = `Downloading \"${filename}\": `;\n",
              "      div.appendChild(label);\n",
              "      const progress = document.createElement('progress');\n",
              "      progress.max = size;\n",
              "      div.appendChild(progress);\n",
              "      document.body.appendChild(div);\n",
              "\n",
              "      const buffers = [];\n",
              "      let downloaded = 0;\n",
              "\n",
              "      const channel = await google.colab.kernel.comms.open(id);\n",
              "      // Send a message to notify the kernel that we're ready.\n",
              "      channel.send({})\n",
              "\n",
              "      for await (const message of channel.messages) {\n",
              "        // Send a message to notify the kernel that we're ready.\n",
              "        channel.send({})\n",
              "        if (message.buffers) {\n",
              "          for (const buffer of message.buffers) {\n",
              "            buffers.push(buffer);\n",
              "            downloaded += buffer.byteLength;\n",
              "            progress.value = downloaded;\n",
              "          }\n",
              "        }\n",
              "      }\n",
              "      const blob = new Blob(buffers, {type: 'application/binary'});\n",
              "      const a = document.createElement('a');\n",
              "      a.href = window.URL.createObjectURL(blob);\n",
              "      a.download = filename;\n",
              "      div.appendChild(a);\n",
              "      a.click();\n",
              "      div.remove();\n",
              "    }\n",
              "  "
            ]
          },
          "metadata": {}
        },
        {
          "output_type": "display_data",
          "data": {
            "text/plain": [
              "<IPython.core.display.Javascript object>"
            ],
            "application/javascript": [
              "download(\"download_c8542f7a-bfb9-4572-b98b-4563892661b3\", \"my_custom_index.zip\", 105563226)"
            ]
          },
          "metadata": {}
        }
      ]
    },
    {
      "cell_type": "code",
      "source": [],
      "metadata": {
        "id": "4dcJfZy1owrO"
      },
      "execution_count": 41,
      "outputs": []
    },
    {
      "cell_type": "code",
      "source": [],
      "metadata": {
        "id": "hGiVspdesZ3L"
      },
      "execution_count": null,
      "outputs": []
    }
  ]
}